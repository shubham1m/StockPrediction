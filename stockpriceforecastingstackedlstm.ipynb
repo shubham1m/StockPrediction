{
 "cells": [
  {
   "cell_type": "markdown",
   "metadata": {
    "id": "a72OeQP0dG1w",
    "papermill": {
     "duration": 0.029986,
     "end_time": "2020-11-26T06:55:54.352626",
     "exception": false,
     "start_time": "2020-11-26T06:55:54.322640",
     "status": "completed"
    },
    "tags": []
   },
   "source": [
    "# Stock Price Prediction And Forecasting Using Stacked LSTM\n",
    "LSTM = Long Short Term Memory\n",
    "\n",
    "Using Keras and Tensorflow >2.0\n",
    "\n",
    "****\n",
    "###Problem statement\n",
    "To get an intution of the of stock price movement for the next 30 days for better decision making.\n",
    "\n",
    "###Stakeholders\n",
    "1. Stock Broker\n",
    "2. Equity traders\n",
    "3. Investment adviser\n",
    "\n",
    "###Business metric\n",
    "1. Increasing ROI using Stock Forecasting\n",
    "2. Understanding stock behavior and using it for better investment \n",
    "\n",
    "###Data science metric\n",
    "Stock prices are volatile due to the viaration in prices based on different external factors such as change in laws, natural disasters, and other factors. Hence the need for a model that has a memeory component and can remember the current context.\n",
    " \n",
    "****\n",
    "\n",
    "Steps:\n",
    "1. Collect stock data => AAPL\n",
    "2. Preprocess data into train and test\n",
    "3. Create an Stacked LSTM model\n",
    "4. Predict test data and plot output\n",
    "5. Predict future 30 days and plot the output\n",
    " \n"
   ]
  },
  {
   "cell_type": "code",
   "execution_count": 1,
   "metadata": {
    "execution": {
     "iopub.execute_input": "2020-11-26T06:55:54.414769Z",
     "iopub.status.busy": "2020-11-26T06:55:54.413754Z",
     "iopub.status.idle": "2020-11-26T06:55:54.420659Z",
     "shell.execute_reply": "2020-11-26T06:55:54.419862Z"
    },
    "papermill": {
     "duration": 0.041402,
     "end_time": "2020-11-26T06:55:54.420825",
     "exception": false,
     "start_time": "2020-11-26T06:55:54.379423",
     "status": "completed"
    },
    "tags": []
   },
   "outputs": [
    {
     "name": "stdout",
     "output_type": "stream",
     "text": [
      "/kaggle/input/some-stocks/AAPL.csv\n",
      "/kaggle/input/some-stocks/GOOGL.csv\n"
     ]
    }
   ],
   "source": [
    "# This Python 3 environment comes with many helpful analytics libraries installed\n",
    "# It is defined by the kaggle/python Docker image: https://github.com/kaggle/docker-python\n",
    "# For example, here's several helpful packages to load\n",
    "\n",
    "import numpy as np # linear algebra\n",
    "import pandas as pd # data processing, CSV file I/O (e.g. pd.read_csv)\n",
    "\n",
    "# Input data files are available in the read-only \"../input/\" directory\n",
    "# For example, running this (by clicking run or pressing Shift+Enter) will list all files under the input directory\n",
    "\n",
    "import os\n",
    "for dirname, _, filenames in os.walk('/kaggle/input'):\n",
    "    for filename in filenames:\n",
    "        print(os.path.join(dirname, filename))\n",
    "\n",
    "# You can write up to 20GB to the current directory (/kaggle/working/) that gets preserved as output when you create a version using \"Save & Run All\" \n",
    "# You can also write temporary files to /kaggle/temp/, but they won't be saved outside of the current session"
   ]
  },
  {
   "cell_type": "code",
   "execution_count": 2,
   "metadata": {
    "execution": {
     "iopub.execute_input": "2020-11-26T06:55:54.484664Z",
     "iopub.status.busy": "2020-11-26T06:55:54.483827Z",
     "iopub.status.idle": "2020-11-26T06:56:02.065205Z",
     "shell.execute_reply": "2020-11-26T06:56:02.064556Z"
    },
    "id": "TD1SUMcKdUNo",
    "papermill": {
     "duration": 7.616179,
     "end_time": "2020-11-26T06:56:02.065340",
     "exception": false,
     "start_time": "2020-11-26T06:55:54.449161",
     "status": "completed"
    },
    "tags": []
   },
   "outputs": [],
   "source": [
    "#Libs\n",
    "import pandas_datareader as pdr\n",
    "import pandas as pd\n",
    "import os\n",
    "\n",
    "import matplotlib.pyplot as plt\n",
    "import seaborn\n",
    "\n",
    "import numpy as np\n",
    "from sklearn.preprocessing import MinMaxScaler\n",
    "\n",
    "import tensorflow as tf\n",
    "from tensorflow.keras.models import Sequential\n",
    "from tensorflow.keras.layers import Dense\n",
    "from tensorflow.keras.layers import LSTM\n",
    "\n",
    "import math\n",
    "from sklearn.metrics import mean_squared_error\n",
    "\n",
    "from numpy import array as arr"
   ]
  },
  {
   "cell_type": "code",
   "execution_count": 3,
   "metadata": {
    "execution": {
     "iopub.execute_input": "2020-11-26T06:56:02.131678Z",
     "iopub.status.busy": "2020-11-26T06:56:02.130821Z",
     "iopub.status.idle": "2020-11-26T06:56:02.152123Z",
     "shell.execute_reply": "2020-11-26T06:56:02.151425Z"
    },
    "id": "n-Gn8eJQdyhS",
    "outputId": "5bcd574a-b150-40fe-b040-bd0b484a2e74",
    "papermill": {
     "duration": 0.05817,
     "end_time": "2020-11-26T06:56:02.152256",
     "exception": false,
     "start_time": "2020-11-26T06:56:02.094086",
     "status": "completed"
    },
    "tags": []
   },
   "outputs": [
    {
     "name": "stdout",
     "output_type": "stream",
     "text": [
      "File already exists. Loading data from CSV\n"
     ]
    }
   ],
   "source": [
    "#Data Collection\n",
    "ticker = 'AAPL'\n",
    "file_to_save = '../input/some-stocks/%s.csv'%ticker\n",
    "#my_apikey='<Enter your own api key here!!>'\n",
    "\n",
    "# If you haven't already saved data,\n",
    "# Go ahead and grab the data from the tiingo api\n",
    "# And store date, low, high, volume, close, open values to a Pandas DataFrame\n",
    "if not os.path.exists(file_to_save):\n",
    "  df = pdr.get_data_tiingo(ticker , api_key=my_apikey)\n",
    "  df.to_csv(file_to_save)\n",
    "  df=pd.read_csv(file_to_save)\n",
    "  print('Data saved to : %s'%file_to_save)        \n",
    "  df.to_csv(file_to_save)\n",
    "\n",
    "# If the data is already there, just load it from the CSV\n",
    "else:\n",
    "  print('File already exists. Loading data from CSV')\n",
    "  df = pd.read_csv(file_to_save)"
   ]
  },
  {
   "cell_type": "code",
   "execution_count": 4,
   "metadata": {
    "execution": {
     "iopub.execute_input": "2020-11-26T06:56:02.239124Z",
     "iopub.status.busy": "2020-11-26T06:56:02.238201Z",
     "iopub.status.idle": "2020-11-26T06:56:02.253237Z",
     "shell.execute_reply": "2020-11-26T06:56:02.253816Z"
    },
    "id": "Ide087jFiDfY",
    "outputId": "f1ac67a4-85b1-4daf-ae3a-8d32f64c78bd",
    "papermill": {
     "duration": 0.069249,
     "end_time": "2020-11-26T06:56:02.254001",
     "exception": false,
     "start_time": "2020-11-26T06:56:02.184752",
     "status": "completed"
    },
    "tags": []
   },
   "outputs": [
    {
     "data": {
      "text/html": [
       "<div>\n",
       "<style scoped>\n",
       "    .dataframe tbody tr th:only-of-type {\n",
       "        vertical-align: middle;\n",
       "    }\n",
       "\n",
       "    .dataframe tbody tr th {\n",
       "        vertical-align: top;\n",
       "    }\n",
       "\n",
       "    .dataframe thead th {\n",
       "        text-align: right;\n",
       "    }\n",
       "</style>\n",
       "<table border=\"1\" class=\"dataframe\">\n",
       "  <thead>\n",
       "    <tr style=\"text-align: right;\">\n",
       "      <th></th>\n",
       "      <th>Unnamed: 0</th>\n",
       "      <th>symbol</th>\n",
       "      <th>date</th>\n",
       "      <th>close</th>\n",
       "      <th>high</th>\n",
       "      <th>low</th>\n",
       "      <th>open</th>\n",
       "      <th>volume</th>\n",
       "      <th>adjClose</th>\n",
       "      <th>adjHigh</th>\n",
       "      <th>adjLow</th>\n",
       "      <th>adjOpen</th>\n",
       "      <th>adjVolume</th>\n",
       "      <th>divCash</th>\n",
       "      <th>splitFactor</th>\n",
       "    </tr>\n",
       "  </thead>\n",
       "  <tbody>\n",
       "    <tr>\n",
       "      <th>0</th>\n",
       "      <td>0</td>\n",
       "      <td>AAPL</td>\n",
       "      <td>2015-11-30 00:00:00+00:00</td>\n",
       "      <td>118.30</td>\n",
       "      <td>119.41</td>\n",
       "      <td>117.75</td>\n",
       "      <td>117.99</td>\n",
       "      <td>39180322</td>\n",
       "      <td>27.396929</td>\n",
       "      <td>27.653993</td>\n",
       "      <td>27.269555</td>\n",
       "      <td>27.325137</td>\n",
       "      <td>156721288</td>\n",
       "      <td>0.0</td>\n",
       "      <td>1.0</td>\n",
       "    </tr>\n",
       "    <tr>\n",
       "      <th>1</th>\n",
       "      <td>1</td>\n",
       "      <td>AAPL</td>\n",
       "      <td>2015-12-01 00:00:00+00:00</td>\n",
       "      <td>117.34</td>\n",
       "      <td>118.81</td>\n",
       "      <td>116.86</td>\n",
       "      <td>118.75</td>\n",
       "      <td>34852374</td>\n",
       "      <td>27.174604</td>\n",
       "      <td>27.515039</td>\n",
       "      <td>27.063442</td>\n",
       "      <td>27.501144</td>\n",
       "      <td>139409496</td>\n",
       "      <td>0.0</td>\n",
       "      <td>1.0</td>\n",
       "    </tr>\n",
       "    <tr>\n",
       "      <th>2</th>\n",
       "      <td>2</td>\n",
       "      <td>AAPL</td>\n",
       "      <td>2015-12-02 00:00:00+00:00</td>\n",
       "      <td>116.28</td>\n",
       "      <td>118.11</td>\n",
       "      <td>116.08</td>\n",
       "      <td>117.05</td>\n",
       "      <td>33386563</td>\n",
       "      <td>26.929120</td>\n",
       "      <td>27.352927</td>\n",
       "      <td>26.882803</td>\n",
       "      <td>27.107443</td>\n",
       "      <td>133546252</td>\n",
       "      <td>0.0</td>\n",
       "      <td>1.0</td>\n",
       "    </tr>\n",
       "    <tr>\n",
       "      <th>3</th>\n",
       "      <td>3</td>\n",
       "      <td>AAPL</td>\n",
       "      <td>2015-12-03 00:00:00+00:00</td>\n",
       "      <td>115.20</td>\n",
       "      <td>116.79</td>\n",
       "      <td>114.22</td>\n",
       "      <td>116.55</td>\n",
       "      <td>41569509</td>\n",
       "      <td>26.679005</td>\n",
       "      <td>27.047230</td>\n",
       "      <td>26.452048</td>\n",
       "      <td>26.991649</td>\n",
       "      <td>166278036</td>\n",
       "      <td>0.0</td>\n",
       "      <td>1.0</td>\n",
       "    </tr>\n",
       "    <tr>\n",
       "      <th>4</th>\n",
       "      <td>4</td>\n",
       "      <td>AAPL</td>\n",
       "      <td>2015-12-04 00:00:00+00:00</td>\n",
       "      <td>119.03</td>\n",
       "      <td>119.25</td>\n",
       "      <td>115.11</td>\n",
       "      <td>115.29</td>\n",
       "      <td>57776977</td>\n",
       "      <td>27.565989</td>\n",
       "      <td>27.616938</td>\n",
       "      <td>26.658162</td>\n",
       "      <td>26.699848</td>\n",
       "      <td>231107908</td>\n",
       "      <td>0.0</td>\n",
       "      <td>1.0</td>\n",
       "    </tr>\n",
       "  </tbody>\n",
       "</table>\n",
       "</div>"
      ],
      "text/plain": [
       "   Unnamed: 0 symbol                       date   close    high     low  \\\n",
       "0           0   AAPL  2015-11-30 00:00:00+00:00  118.30  119.41  117.75   \n",
       "1           1   AAPL  2015-12-01 00:00:00+00:00  117.34  118.81  116.86   \n",
       "2           2   AAPL  2015-12-02 00:00:00+00:00  116.28  118.11  116.08   \n",
       "3           3   AAPL  2015-12-03 00:00:00+00:00  115.20  116.79  114.22   \n",
       "4           4   AAPL  2015-12-04 00:00:00+00:00  119.03  119.25  115.11   \n",
       "\n",
       "     open    volume   adjClose    adjHigh     adjLow    adjOpen  adjVolume  \\\n",
       "0  117.99  39180322  27.396929  27.653993  27.269555  27.325137  156721288   \n",
       "1  118.75  34852374  27.174604  27.515039  27.063442  27.501144  139409496   \n",
       "2  117.05  33386563  26.929120  27.352927  26.882803  27.107443  133546252   \n",
       "3  116.55  41569509  26.679005  27.047230  26.452048  26.991649  166278036   \n",
       "4  115.29  57776977  27.565989  27.616938  26.658162  26.699848  231107908   \n",
       "\n",
       "   divCash  splitFactor  \n",
       "0      0.0          1.0  \n",
       "1      0.0          1.0  \n",
       "2      0.0          1.0  \n",
       "3      0.0          1.0  \n",
       "4      0.0          1.0  "
      ]
     },
     "execution_count": 4,
     "metadata": {},
     "output_type": "execute_result"
    }
   ],
   "source": [
    "df.head()"
   ]
  },
  {
   "cell_type": "code",
   "execution_count": 5,
   "metadata": {
    "execution": {
     "iopub.execute_input": "2020-11-26T06:56:02.336307Z",
     "iopub.status.busy": "2020-11-26T06:56:02.334416Z",
     "iopub.status.idle": "2020-11-26T06:56:02.341273Z",
     "shell.execute_reply": "2020-11-26T06:56:02.340663Z"
    },
    "id": "RKz02-BtiVXj",
    "outputId": "686055de-eccc-46f0-b131-cd45c3f79cdb",
    "papermill": {
     "duration": 0.057489,
     "end_time": "2020-11-26T06:56:02.341425",
     "exception": false,
     "start_time": "2020-11-26T06:56:02.283936",
     "status": "completed"
    },
    "tags": []
   },
   "outputs": [
    {
     "data": {
      "text/html": [
       "<div>\n",
       "<style scoped>\n",
       "    .dataframe tbody tr th:only-of-type {\n",
       "        vertical-align: middle;\n",
       "    }\n",
       "\n",
       "    .dataframe tbody tr th {\n",
       "        vertical-align: top;\n",
       "    }\n",
       "\n",
       "    .dataframe thead th {\n",
       "        text-align: right;\n",
       "    }\n",
       "</style>\n",
       "<table border=\"1\" class=\"dataframe\">\n",
       "  <thead>\n",
       "    <tr style=\"text-align: right;\">\n",
       "      <th></th>\n",
       "      <th>Unnamed: 0</th>\n",
       "      <th>symbol</th>\n",
       "      <th>date</th>\n",
       "      <th>close</th>\n",
       "      <th>high</th>\n",
       "      <th>low</th>\n",
       "      <th>open</th>\n",
       "      <th>volume</th>\n",
       "      <th>adjClose</th>\n",
       "      <th>adjHigh</th>\n",
       "      <th>adjLow</th>\n",
       "      <th>adjOpen</th>\n",
       "      <th>adjVolume</th>\n",
       "      <th>divCash</th>\n",
       "      <th>splitFactor</th>\n",
       "    </tr>\n",
       "  </thead>\n",
       "  <tbody>\n",
       "    <tr>\n",
       "      <th>1253</th>\n",
       "      <td>1253</td>\n",
       "      <td>AAPL</td>\n",
       "      <td>2020-11-19 00:00:00+00:00</td>\n",
       "      <td>118.64</td>\n",
       "      <td>119.0600</td>\n",
       "      <td>116.81</td>\n",
       "      <td>117.59</td>\n",
       "      <td>74112972</td>\n",
       "      <td>118.64</td>\n",
       "      <td>119.0600</td>\n",
       "      <td>116.81</td>\n",
       "      <td>117.59</td>\n",
       "      <td>74112972</td>\n",
       "      <td>0.0</td>\n",
       "      <td>1.0</td>\n",
       "    </tr>\n",
       "    <tr>\n",
       "      <th>1254</th>\n",
       "      <td>1254</td>\n",
       "      <td>AAPL</td>\n",
       "      <td>2020-11-20 00:00:00+00:00</td>\n",
       "      <td>117.34</td>\n",
       "      <td>118.7700</td>\n",
       "      <td>117.29</td>\n",
       "      <td>118.64</td>\n",
       "      <td>73604287</td>\n",
       "      <td>117.34</td>\n",
       "      <td>118.7700</td>\n",
       "      <td>117.29</td>\n",
       "      <td>118.64</td>\n",
       "      <td>73604287</td>\n",
       "      <td>0.0</td>\n",
       "      <td>1.0</td>\n",
       "    </tr>\n",
       "    <tr>\n",
       "      <th>1255</th>\n",
       "      <td>1255</td>\n",
       "      <td>AAPL</td>\n",
       "      <td>2020-11-23 00:00:00+00:00</td>\n",
       "      <td>113.85</td>\n",
       "      <td>117.6202</td>\n",
       "      <td>113.75</td>\n",
       "      <td>117.18</td>\n",
       "      <td>127959318</td>\n",
       "      <td>113.85</td>\n",
       "      <td>117.6202</td>\n",
       "      <td>113.75</td>\n",
       "      <td>117.18</td>\n",
       "      <td>127959318</td>\n",
       "      <td>0.0</td>\n",
       "      <td>1.0</td>\n",
       "    </tr>\n",
       "    <tr>\n",
       "      <th>1256</th>\n",
       "      <td>1256</td>\n",
       "      <td>AAPL</td>\n",
       "      <td>2020-11-24 00:00:00+00:00</td>\n",
       "      <td>115.17</td>\n",
       "      <td>115.8500</td>\n",
       "      <td>112.59</td>\n",
       "      <td>113.91</td>\n",
       "      <td>113226248</td>\n",
       "      <td>115.17</td>\n",
       "      <td>115.8500</td>\n",
       "      <td>112.59</td>\n",
       "      <td>113.91</td>\n",
       "      <td>113226248</td>\n",
       "      <td>0.0</td>\n",
       "      <td>1.0</td>\n",
       "    </tr>\n",
       "    <tr>\n",
       "      <th>1257</th>\n",
       "      <td>1257</td>\n",
       "      <td>AAPL</td>\n",
       "      <td>2020-11-25 00:00:00+00:00</td>\n",
       "      <td>116.03</td>\n",
       "      <td>116.7500</td>\n",
       "      <td>115.17</td>\n",
       "      <td>115.55</td>\n",
       "      <td>76499234</td>\n",
       "      <td>116.03</td>\n",
       "      <td>116.7500</td>\n",
       "      <td>115.17</td>\n",
       "      <td>115.55</td>\n",
       "      <td>76499234</td>\n",
       "      <td>0.0</td>\n",
       "      <td>1.0</td>\n",
       "    </tr>\n",
       "  </tbody>\n",
       "</table>\n",
       "</div>"
      ],
      "text/plain": [
       "      Unnamed: 0 symbol                       date   close      high     low  \\\n",
       "1253        1253   AAPL  2020-11-19 00:00:00+00:00  118.64  119.0600  116.81   \n",
       "1254        1254   AAPL  2020-11-20 00:00:00+00:00  117.34  118.7700  117.29   \n",
       "1255        1255   AAPL  2020-11-23 00:00:00+00:00  113.85  117.6202  113.75   \n",
       "1256        1256   AAPL  2020-11-24 00:00:00+00:00  115.17  115.8500  112.59   \n",
       "1257        1257   AAPL  2020-11-25 00:00:00+00:00  116.03  116.7500  115.17   \n",
       "\n",
       "        open     volume  adjClose   adjHigh  adjLow  adjOpen  adjVolume  \\\n",
       "1253  117.59   74112972    118.64  119.0600  116.81   117.59   74112972   \n",
       "1254  118.64   73604287    117.34  118.7700  117.29   118.64   73604287   \n",
       "1255  117.18  127959318    113.85  117.6202  113.75   117.18  127959318   \n",
       "1256  113.91  113226248    115.17  115.8500  112.59   113.91  113226248   \n",
       "1257  115.55   76499234    116.03  116.7500  115.17   115.55   76499234   \n",
       "\n",
       "      divCash  splitFactor  \n",
       "1253      0.0          1.0  \n",
       "1254      0.0          1.0  \n",
       "1255      0.0          1.0  \n",
       "1256      0.0          1.0  \n",
       "1257      0.0          1.0  "
      ]
     },
     "execution_count": 5,
     "metadata": {},
     "output_type": "execute_result"
    }
   ],
   "source": [
    "df.tail()"
   ]
  },
  {
   "cell_type": "code",
   "execution_count": 6,
   "metadata": {
    "execution": {
     "iopub.execute_input": "2020-11-26T06:56:02.411040Z",
     "iopub.status.busy": "2020-11-26T06:56:02.408954Z",
     "iopub.status.idle": "2020-11-26T06:56:02.414610Z",
     "shell.execute_reply": "2020-11-26T06:56:02.413861Z"
    },
    "id": "jhxsjkBpidLT",
    "papermill": {
     "duration": 0.041574,
     "end_time": "2020-11-26T06:56:02.414740",
     "exception": false,
     "start_time": "2020-11-26T06:56:02.373166",
     "status": "completed"
    },
    "tags": []
   },
   "outputs": [],
   "source": [
    "df1=df.reset_index()['close']"
   ]
  },
  {
   "cell_type": "code",
   "execution_count": 7,
   "metadata": {
    "execution": {
     "iopub.execute_input": "2020-11-26T06:56:02.484785Z",
     "iopub.status.busy": "2020-11-26T06:56:02.483741Z",
     "iopub.status.idle": "2020-11-26T06:56:02.489423Z",
     "shell.execute_reply": "2020-11-26T06:56:02.488754Z"
    },
    "id": "iuSO7jm7ioXM",
    "outputId": "aba3febf-3c9f-46bf-bfcb-6c8ba7b98bb8",
    "papermill": {
     "duration": 0.043524,
     "end_time": "2020-11-26T06:56:02.489556",
     "exception": false,
     "start_time": "2020-11-26T06:56:02.446032",
     "status": "completed"
    },
    "tags": []
   },
   "outputs": [
    {
     "name": "stdout",
     "output_type": "stream",
     "text": [
      "(1258,)\n"
     ]
    },
    {
     "data": {
      "text/plain": [
       "120.96"
      ]
     },
     "execution_count": 7,
     "metadata": {},
     "output_type": "execute_result"
    }
   ],
   "source": [
    "print(df1.shape)\n",
    "df1[1200]"
   ]
  },
  {
   "cell_type": "code",
   "execution_count": 8,
   "metadata": {
    "execution": {
     "iopub.execute_input": "2020-11-26T06:56:02.557715Z",
     "iopub.status.busy": "2020-11-26T06:56:02.556872Z",
     "iopub.status.idle": "2020-11-26T06:56:02.768839Z",
     "shell.execute_reply": "2020-11-26T06:56:02.768050Z"
    },
    "id": "q24AvTLki4tE",
    "outputId": "d25b31c6-98cd-4750-e2b0-ec7f28d899d7",
    "papermill": {
     "duration": 0.248137,
     "end_time": "2020-11-26T06:56:02.768966",
     "exception": false,
     "start_time": "2020-11-26T06:56:02.520829",
     "status": "completed"
    },
    "tags": []
   },
   "outputs": [
    {
     "data": {
      "image/png": "[encoded data removed]",
      "text/plain": [
       "<Figure size 432x288 with 1 Axes>"
      ]
     },
     "metadata": {
      "needs_background": "light"
     },
     "output_type": "display_data"
    }
   ],
   "source": [
    "plt.plot(df1)\n",
    "plt.show()"
   ]
  },
  {
   "cell_type": "code",
   "execution_count": 9,
   "metadata": {
    "execution": {
     "iopub.execute_input": "2020-11-26T06:56:02.840673Z",
     "iopub.status.busy": "2020-11-26T06:56:02.839809Z",
     "iopub.status.idle": "2020-11-26T06:56:02.843472Z",
     "shell.execute_reply": "2020-11-26T06:56:02.842714Z"
    },
    "id": "7bcYojUhUTY8",
    "papermill": {
     "duration": 0.042423,
     "end_time": "2020-11-26T06:56:02.843607",
     "exception": false,
     "start_time": "2020-11-26T06:56:02.801184",
     "status": "completed"
    },
    "tags": []
   },
   "outputs": [],
   "source": [
    "#data scaling scaling values between 0 to 1\n",
    "#because LSTM is very data sensitive\n",
    "scaler=MinMaxScaler(feature_range=(0,1))\n",
    "df1=scaler.fit_transform(np.array(df1).reshape(-1,1))"
   ]
  },
  {
   "cell_type": "code",
   "execution_count": 10,
   "metadata": {
    "execution": {
     "iopub.execute_input": "2020-11-26T06:56:02.916684Z",
     "iopub.status.busy": "2020-11-26T06:56:02.915773Z",
     "iopub.status.idle": "2020-11-26T06:56:02.919100Z",
     "shell.execute_reply": "2020-11-26T06:56:02.919766Z"
    },
    "id": "wZoh_gjwU43j",
    "outputId": "8dcc6336-eb39-4608-f00f-c23e87e6b4df",
    "papermill": {
     "duration": 0.042899,
     "end_time": "2020-11-26T06:56:02.919946",
     "exception": false,
     "start_time": "2020-11-26T06:56:02.877047",
     "status": "completed"
    },
    "tags": []
   },
   "outputs": [
    {
     "name": "stdout",
     "output_type": "stream",
     "text": [
      "[[0.06725195]\n",
      " [0.06494287]\n",
      " [0.06239327]\n",
      " ...\n",
      " [0.05654841]\n",
      " [0.05972339]\n",
      " [0.06179194]]\n"
     ]
    }
   ],
   "source": [
    "print(df1)"
   ]
  },
  {
   "cell_type": "code",
   "execution_count": 11,
   "metadata": {
    "execution": {
     "iopub.execute_input": "2020-11-26T06:56:02.993408Z",
     "iopub.status.busy": "2020-11-26T06:56:02.992385Z",
     "iopub.status.idle": "2020-11-26T06:56:02.995864Z",
     "shell.execute_reply": "2020-11-26T06:56:02.995108Z"
    },
    "id": "X8Ehxd73U8My",
    "papermill": {
     "duration": 0.043017,
     "end_time": "2020-11-26T06:56:02.995993",
     "exception": false,
     "start_time": "2020-11-26T06:56:02.952976",
     "status": "completed"
    },
    "tags": []
   },
   "outputs": [],
   "source": [
    "#train and test split\n",
    "train_size=int(len(df1)*0.65)\n",
    "test_size=len(df1)-train_size\n",
    "train_data,test_data=df1[0:train_size,:],df1[train_size:len(df1),:1]"
   ]
  },
  {
   "cell_type": "code",
   "execution_count": 12,
   "metadata": {
    "execution": {
     "iopub.execute_input": "2020-11-26T06:56:03.068614Z",
     "iopub.status.busy": "2020-11-26T06:56:03.067581Z",
     "iopub.status.idle": "2020-11-26T06:56:03.071051Z",
     "shell.execute_reply": "2020-11-26T06:56:03.071651Z"
    },
    "id": "Wzf1fe9YWsq1",
    "outputId": "e742f4e9-84aa-43ed-c023-140d34ed7e39",
    "papermill": {
     "duration": 0.04237,
     "end_time": "2020-11-26T06:56:03.071810",
     "exception": false,
     "start_time": "2020-11-26T06:56:03.029440",
     "status": "completed"
    },
    "tags": []
   },
   "outputs": [
    {
     "data": {
      "text/plain": [
       "(817, 441)"
      ]
     },
     "execution_count": 12,
     "metadata": {},
     "output_type": "execute_result"
    }
   ],
   "source": [
    "train_size,test_size"
   ]
  },
  {
   "cell_type": "code",
   "execution_count": 13,
   "metadata": {
    "execution": {
     "iopub.execute_input": "2020-11-26T06:56:03.156539Z",
     "iopub.status.busy": "2020-11-26T06:56:03.155266Z",
     "iopub.status.idle": "2020-11-26T06:56:03.159573Z",
     "shell.execute_reply": "2020-11-26T06:56:03.158883Z"
    },
    "id": "1iOhYUXnWzZx",
    "papermill": {
     "duration": 0.054157,
     "end_time": "2020-11-26T06:56:03.159712",
     "exception": false,
     "start_time": "2020-11-26T06:56:03.105555",
     "status": "completed"
    },
    "tags": []
   },
   "outputs": [],
   "source": [
    "#convert an array of values into dataset matrix\n",
    "def create_dataset(dataset, time_step=1):\n",
    "  dataX, dataY = [], []\n",
    "  for i in range(len(dataset)-time_step-1):\n",
    "    a = dataset[i:(i+time_step), 0]     #i=0, 0,1,2,3\n",
    "    dataX.append(a)\n",
    "    dataY.append(dataset[i + time_step, 0])\n",
    "  return np.array(dataX), np.array(dataY)"
   ]
  },
  {
   "cell_type": "code",
   "execution_count": 14,
   "metadata": {
    "execution": {
     "iopub.execute_input": "2020-11-26T06:56:03.246644Z",
     "iopub.status.busy": "2020-11-26T06:56:03.245532Z",
     "iopub.status.idle": "2020-11-26T06:56:03.252944Z",
     "shell.execute_reply": "2020-11-26T06:56:03.251717Z"
    },
    "id": "WZu1Mdg9afAX",
    "papermill": {
     "duration": 0.056229,
     "end_time": "2020-11-26T06:56:03.253133",
     "exception": false,
     "start_time": "2020-11-26T06:56:03.196904",
     "status": "completed"
    },
    "tags": []
   },
   "outputs": [],
   "source": [
    "#reshape into X=t,t+1,t+2,t+3 and Y=t+4\n",
    "time_step = 100\n",
    "X_train, Y_train = create_dataset(train_data, time_step)\n",
    "X_test, Y_test = create_dataset(test_data, time_step)"
   ]
  },
  {
   "cell_type": "code",
   "execution_count": 15,
   "metadata": {
    "execution": {
     "iopub.execute_input": "2020-11-26T06:56:03.335852Z",
     "iopub.status.busy": "2020-11-26T06:56:03.334845Z",
     "iopub.status.idle": "2020-11-26T06:56:03.339970Z",
     "shell.execute_reply": "2020-11-26T06:56:03.339011Z"
    },
    "id": "9qKtNkmVbJVt",
    "outputId": "66511ec2-6bd0-4ea2-fa2c-1a3c0ab602c0",
    "papermill": {
     "duration": 0.049637,
     "end_time": "2020-11-26T06:56:03.340137",
     "exception": false,
     "start_time": "2020-11-26T06:56:03.290500",
     "status": "completed"
    },
    "tags": []
   },
   "outputs": [
    {
     "name": "stdout",
     "output_type": "stream",
     "text": [
      "[[0.06725195 0.06494287 0.06239327 ... 0.04038485 0.03759471 0.03689717]\n",
      " [0.06494287 0.06239327 0.05979555 ... 0.03759471 0.03689717 0.035454  ]\n",
      " [0.06239327 0.05979555 0.06900782 ... 0.03689717 0.035454   0.03369814]\n",
      " ...\n",
      " [0.32567649 0.32933253 0.33419122 ... 0.19648827 0.19415514 0.19874925]\n",
      " [0.32933253 0.33419122 0.34090198 ... 0.19415514 0.19874925 0.20177992]\n",
      " [0.33419122 0.34090198 0.33108839 ... 0.19874925 0.20177992 0.20202044]]\n"
     ]
    }
   ],
   "source": [
    "print(X_train)"
   ]
  },
  {
   "cell_type": "code",
   "execution_count": 16,
   "metadata": {
    "execution": {
     "iopub.execute_input": "2020-11-26T06:56:03.423738Z",
     "iopub.status.busy": "2020-11-26T06:56:03.422585Z",
     "iopub.status.idle": "2020-11-26T06:56:03.429524Z",
     "shell.execute_reply": "2020-11-26T06:56:03.428843Z"
    },
    "id": "YMJX2BtmtzaT",
    "outputId": "98c7f17e-86b5-41e8-8e0e-5dba8d923d5f",
    "papermill": {
     "duration": 0.051992,
     "end_time": "2020-11-26T06:56:03.429663",
     "exception": false,
     "start_time": "2020-11-26T06:56:03.377671",
     "status": "completed"
    },
    "tags": []
   },
   "outputs": [
    {
     "name": "stdout",
     "output_type": "stream",
     "text": [
      "(716, 100)\n",
      "(716,)\n"
     ]
    },
    {
     "data": {
      "text/plain": [
       "(None, None)"
      ]
     },
     "execution_count": 16,
     "metadata": {},
     "output_type": "execute_result"
    }
   ],
   "source": [
    "print(X_train.shape), print(Y_train.shape)"
   ]
  },
  {
   "cell_type": "code",
   "execution_count": 17,
   "metadata": {
    "execution": {
     "iopub.execute_input": "2020-11-26T06:56:03.513742Z",
     "iopub.status.busy": "2020-11-26T06:56:03.512714Z",
     "iopub.status.idle": "2020-11-26T06:56:03.518642Z",
     "shell.execute_reply": "2020-11-26T06:56:03.519201Z"
    },
    "id": "UWqVOFH7kGnw",
    "outputId": "52a472ef-ccd7-419e-92d1-2ed637616ae9",
    "papermill": {
     "duration": 0.049808,
     "end_time": "2020-11-26T06:56:03.519368",
     "exception": false,
     "start_time": "2020-11-26T06:56:03.469560",
     "status": "completed"
    },
    "tags": []
   },
   "outputs": [
    {
     "name": "stdout",
     "output_type": "stream",
     "text": [
      "(340, 100)\n",
      "(340,)\n"
     ]
    },
    {
     "data": {
      "text/plain": [
       "(None, None)"
      ]
     },
     "execution_count": 17,
     "metadata": {},
     "output_type": "execute_result"
    }
   ],
   "source": [
    "print(X_test.shape), print(Y_test.shape)"
   ]
  },
  {
   "cell_type": "code",
   "execution_count": 18,
   "metadata": {
    "execution": {
     "iopub.execute_input": "2020-11-26T06:56:03.601986Z",
     "iopub.status.busy": "2020-11-26T06:56:03.601026Z",
     "iopub.status.idle": "2020-11-26T06:56:03.605865Z",
     "shell.execute_reply": "2020-11-26T06:56:03.605105Z"
    },
    "id": "MvoSTl-Aksgj",
    "papermill": {
     "duration": 0.049653,
     "end_time": "2020-11-26T06:56:03.605993",
     "exception": false,
     "start_time": "2020-11-26T06:56:03.556340",
     "status": "completed"
    },
    "tags": []
   },
   "outputs": [],
   "source": [
    "#Reshape input to be [samples, time steps, features] which is required for LSTM\n",
    "X_train=X_train.reshape(X_train.shape[0], X_train.shape[1], 1)\n",
    "X_test=X_test.reshape(X_test.shape[0], X_test.shape[1], 1)"
   ]
  },
  {
   "cell_type": "code",
   "execution_count": 19,
   "metadata": {
    "execution": {
     "iopub.execute_input": "2020-11-26T06:56:03.690239Z",
     "iopub.status.busy": "2020-11-26T06:56:03.689459Z",
     "iopub.status.idle": "2020-11-26T06:56:04.660391Z",
     "shell.execute_reply": "2020-11-26T06:56:04.659315Z"
    },
    "id": "WV-IWxaKmJsw",
    "outputId": "392e6d34-bca3-43d6-dd87-ae065d7c28cd",
    "papermill": {
     "duration": 1.017273,
     "end_time": "2020-11-26T06:56:04.660570",
     "exception": false,
     "start_time": "2020-11-26T06:56:03.643297",
     "status": "completed"
    },
    "tags": []
   },
   "outputs": [
    {
     "name": "stdout",
     "output_type": "stream",
     "text": [
      "Model: \"sequential\"\n",
      "_________________________________________________________________\n",
      "Layer (type)                 Output Shape              Param #   \n",
      "=================================================================\n",
      "lstm (LSTM)                  (None, 100, 50)           10400     \n",
      "_________________________________________________________________\n",
      "lstm_1 (LSTM)                (None, 100, 50)           20200     \n",
      "_________________________________________________________________\n",
      "lstm_2 (LSTM)                (None, 50)                20200     \n",
      "_________________________________________________________________\n",
      "dense (Dense)                (None, 1)                 51        \n",
      "=================================================================\n",
      "Total params: 50,851\n",
      "Trainable params: 50,851\n",
      "Non-trainable params: 0\n",
      "_________________________________________________________________\n"
     ]
    }
   ],
   "source": [
    "#Creating LSTM model\n",
    "model=Sequential()\n",
    "model.add(LSTM(50,return_sequences=True,input_shape=(100,1)))\n",
    "model.add(LSTM(50,return_sequences=True))\n",
    "model.add(LSTM(50))\n",
    "model.add(Dense(1))\n",
    "model.compile(loss='mean_squared_error', optimizer='adam')\n",
    "model.summary()"
   ]
  },
  {
   "cell_type": "code",
   "execution_count": 20,
   "metadata": {
    "execution": {
     "iopub.execute_input": "2020-11-26T06:56:04.743998Z",
     "iopub.status.busy": "2020-11-26T06:56:04.743137Z",
     "iopub.status.idle": "2020-11-26T06:59:48.600210Z",
     "shell.execute_reply": "2020-11-26T06:59:48.599134Z"
    },
    "id": "iFQrqzl4m72F",
    "outputId": "686a6e90-8a51-49d5-ad4d-129e25968f0b",
    "papermill": {
     "duration": 223.901317,
     "end_time": "2020-11-26T06:59:48.600418",
     "exception": false,
     "start_time": "2020-11-26T06:56:04.699101",
     "status": "completed"
    },
    "tags": []
   },
   "outputs": [
    {
     "name": "stdout",
     "output_type": "stream",
     "text": [
      "Epoch 1/100\n",
      "12/12 [==============================] - 3s 258ms/step - loss: 0.0087 - val_loss: 0.0631\n",
      "Epoch 2/100\n",
      "12/12 [==============================] - 2s 158ms/step - loss: 0.0022 - val_loss: 0.0223\n",
      "Epoch 3/100\n",
      "12/12 [==============================] - 2s 159ms/step - loss: 5.9327e-04 - val_loss: 0.0218\n",
      "Epoch 4/100\n",
      "12/12 [==============================] - 2s 158ms/step - loss: 4.2249e-04 - val_loss: 0.0199\n",
      "Epoch 5/100\n",
      "12/12 [==============================] - 2s 163ms/step - loss: 3.6186e-04 - val_loss: 0.0192\n",
      "Epoch 6/100\n",
      "12/12 [==============================] - 2s 157ms/step - loss: 3.4578e-04 - val_loss: 0.0187\n",
      "Epoch 7/100\n",
      "12/12 [==============================] - 2s 159ms/step - loss: 3.3640e-04 - val_loss: 0.0182\n",
      "Epoch 8/100\n",
      "12/12 [==============================] - 2s 160ms/step - loss: 3.2309e-04 - val_loss: 0.0179\n",
      "Epoch 9/100\n",
      "12/12 [==============================] - 2s 161ms/step - loss: 3.0811e-04 - val_loss: 0.0175\n",
      "Epoch 10/100\n",
      "12/12 [==============================] - 2s 163ms/step - loss: 3.1321e-04 - val_loss: 0.0169\n",
      "Epoch 11/100\n",
      "12/12 [==============================] - 2s 159ms/step - loss: 3.1699e-04 - val_loss: 0.0166\n",
      "Epoch 12/100\n",
      "12/12 [==============================] - 2s 196ms/step - loss: 3.1005e-04 - val_loss: 0.0169\n",
      "Epoch 13/100\n",
      "12/12 [==============================] - 2s 165ms/step - loss: 3.1143e-04 - val_loss: 0.0162\n",
      "Epoch 14/100\n",
      "12/12 [==============================] - 2s 166ms/step - loss: 2.7017e-04 - val_loss: 0.0153\n",
      "Epoch 15/100\n",
      "12/12 [==============================] - 2s 169ms/step - loss: 2.5816e-04 - val_loss: 0.0152\n",
      "Epoch 16/100\n",
      "12/12 [==============================] - 2s 168ms/step - loss: 2.4903e-04 - val_loss: 0.0149\n",
      "Epoch 17/100\n",
      "12/12 [==============================] - 2s 167ms/step - loss: 2.3366e-04 - val_loss: 0.0140\n",
      "Epoch 18/100\n",
      "12/12 [==============================] - 2s 166ms/step - loss: 2.2804e-04 - val_loss: 0.0137\n",
      "Epoch 19/100\n",
      "12/12 [==============================] - 2s 163ms/step - loss: 2.1445e-04 - val_loss: 0.0137\n",
      "Epoch 20/100\n",
      "12/12 [==============================] - 2s 167ms/step - loss: 2.0838e-04 - val_loss: 0.0133\n",
      "Epoch 21/100\n",
      "12/12 [==============================] - 2s 165ms/step - loss: 2.1959e-04 - val_loss: 0.0159\n",
      "Epoch 22/100\n",
      "12/12 [==============================] - 2s 161ms/step - loss: 3.0273e-04 - val_loss: 0.0130\n",
      "Epoch 23/100\n",
      "12/12 [==============================] - 2s 161ms/step - loss: 2.0852e-04 - val_loss: 0.0133\n",
      "Epoch 24/100\n",
      "12/12 [==============================] - 2s 162ms/step - loss: 2.2576e-04 - val_loss: 0.0139\n",
      "Epoch 25/100\n",
      "12/12 [==============================] - 2s 169ms/step - loss: 2.0560e-04 - val_loss: 0.0131\n",
      "Epoch 26/100\n",
      "12/12 [==============================] - 2s 193ms/step - loss: 1.8999e-04 - val_loss: 0.0134\n",
      "Epoch 27/100\n",
      "12/12 [==============================] - 2s 199ms/step - loss: 1.7940e-04 - val_loss: 0.0125\n",
      "Epoch 28/100\n",
      "12/12 [==============================] - 2s 163ms/step - loss: 1.9648e-04 - val_loss: 0.0139\n",
      "Epoch 29/100\n",
      "12/12 [==============================] - 2s 160ms/step - loss: 1.7446e-04 - val_loss: 0.0139\n",
      "Epoch 30/100\n",
      "12/12 [==============================] - 2s 166ms/step - loss: 1.9347e-04 - val_loss: 0.0132\n",
      "Epoch 31/100\n",
      "12/12 [==============================] - 2s 162ms/step - loss: 1.8073e-04 - val_loss: 0.0135\n",
      "Epoch 32/100\n",
      "12/12 [==============================] - 2s 165ms/step - loss: 1.7266e-04 - val_loss: 0.0124\n",
      "Epoch 33/100\n",
      "12/12 [==============================] - 2s 161ms/step - loss: 2.6528e-04 - val_loss: 0.0134\n",
      "Epoch 34/100\n",
      "12/12 [==============================] - 2s 159ms/step - loss: 1.7824e-04 - val_loss: 0.0119\n",
      "Epoch 35/100\n",
      "12/12 [==============================] - 2s 167ms/step - loss: 1.6478e-04 - val_loss: 0.0131\n",
      "Epoch 36/100\n",
      "12/12 [==============================] - 2s 160ms/step - loss: 2.3295e-04 - val_loss: 0.0115\n",
      "Epoch 37/100\n",
      "12/12 [==============================] - 2s 158ms/step - loss: 1.8216e-04 - val_loss: 0.0120\n",
      "Epoch 38/100\n",
      "12/12 [==============================] - 2s 161ms/step - loss: 1.6670e-04 - val_loss: 0.0123\n",
      "Epoch 39/100\n",
      "12/12 [==============================] - 2s 165ms/step - loss: 1.6430e-04 - val_loss: 0.0118\n",
      "Epoch 40/100\n",
      "12/12 [==============================] - 2s 176ms/step - loss: 1.6041e-04 - val_loss: 0.0118\n",
      "Epoch 41/100\n",
      "12/12 [==============================] - 2s 176ms/step - loss: 1.5730e-04 - val_loss: 0.0118\n",
      "Epoch 42/100\n",
      "12/12 [==============================] - 2s 169ms/step - loss: 1.6122e-04 - val_loss: 0.0119\n",
      "Epoch 43/100\n",
      "12/12 [==============================] - 2s 163ms/step - loss: 1.5520e-04 - val_loss: 0.0113\n",
      "Epoch 44/100\n",
      "12/12 [==============================] - 2s 162ms/step - loss: 1.9077e-04 - val_loss: 0.0118\n",
      "Epoch 45/100\n",
      "12/12 [==============================] - 2s 168ms/step - loss: 1.7131e-04 - val_loss: 0.0111\n",
      "Epoch 46/100\n",
      "12/12 [==============================] - 2s 165ms/step - loss: 1.7607e-04 - val_loss: 0.0109\n",
      "Epoch 47/100\n",
      "12/12 [==============================] - 2s 166ms/step - loss: 1.5859e-04 - val_loss: 0.0113\n",
      "Epoch 48/100\n",
      "12/12 [==============================] - 2s 164ms/step - loss: 1.5992e-04 - val_loss: 0.0108\n",
      "Epoch 49/100\n",
      "12/12 [==============================] - 2s 165ms/step - loss: 1.5767e-04 - val_loss: 0.0109\n",
      "Epoch 50/100\n",
      "12/12 [==============================] - 2s 162ms/step - loss: 1.4798e-04 - val_loss: 0.0107\n",
      "Epoch 51/100\n",
      "12/12 [==============================] - 2s 165ms/step - loss: 1.5005e-04 - val_loss: 0.0106\n",
      "Epoch 52/100\n",
      "12/12 [==============================] - 2s 163ms/step - loss: 1.6331e-04 - val_loss: 0.0109\n",
      "Epoch 53/100\n",
      "12/12 [==============================] - 2s 164ms/step - loss: 1.5292e-04 - val_loss: 0.0111\n",
      "Epoch 54/100\n",
      "12/12 [==============================] - 2s 169ms/step - loss: 1.6995e-04 - val_loss: 0.0104\n",
      "Epoch 55/100\n",
      "12/12 [==============================] - 2s 163ms/step - loss: 1.4078e-04 - val_loss: 0.0103\n",
      "Epoch 56/100\n",
      "12/12 [==============================] - 2s 177ms/step - loss: 1.3662e-04 - val_loss: 0.0116\n",
      "Epoch 57/100\n",
      "12/12 [==============================] - 2s 169ms/step - loss: 1.7895e-04 - val_loss: 0.0100\n",
      "Epoch 58/100\n",
      "12/12 [==============================] - 2s 165ms/step - loss: 1.5743e-04 - val_loss: 0.0103\n",
      "Epoch 59/100\n",
      "12/12 [==============================] - 2s 164ms/step - loss: 1.4134e-04 - val_loss: 0.0102\n",
      "Epoch 60/100\n",
      "12/12 [==============================] - 2s 166ms/step - loss: 1.3496e-04 - val_loss: 0.0098\n",
      "Epoch 61/100\n",
      "12/12 [==============================] - 2s 168ms/step - loss: 1.5078e-04 - val_loss: 0.0101\n",
      "Epoch 62/100\n",
      "12/12 [==============================] - 2s 163ms/step - loss: 1.4053e-04 - val_loss: 0.0097\n",
      "Epoch 63/100\n",
      "12/12 [==============================] - 2s 165ms/step - loss: 1.3418e-04 - val_loss: 0.0096\n",
      "Epoch 64/100\n",
      "12/12 [==============================] - 2s 160ms/step - loss: 1.3030e-04 - val_loss: 0.0093\n",
      "Epoch 65/100\n",
      "12/12 [==============================] - 2s 161ms/step - loss: 1.5160e-04 - val_loss: 0.0108\n",
      "Epoch 66/100\n",
      "12/12 [==============================] - 2s 167ms/step - loss: 1.8325e-04 - val_loss: 0.0095\n",
      "Epoch 67/100\n",
      "12/12 [==============================] - 2s 175ms/step - loss: 1.4503e-04 - val_loss: 0.0096\n",
      "Epoch 68/100\n",
      "12/12 [==============================] - 2s 179ms/step - loss: 1.2732e-04 - val_loss: 0.0091\n",
      "Epoch 69/100\n",
      "12/12 [==============================] - 2s 166ms/step - loss: 1.6106e-04 - val_loss: 0.0109\n",
      "Epoch 70/100\n",
      "12/12 [==============================] - 2s 168ms/step - loss: 1.5445e-04 - val_loss: 0.0087\n",
      "Epoch 71/100\n",
      "12/12 [==============================] - 2s 183ms/step - loss: 1.2694e-04 - val_loss: 0.0091\n",
      "Epoch 72/100\n",
      "12/12 [==============================] - 2s 166ms/step - loss: 1.3174e-04 - val_loss: 0.0085\n",
      "Epoch 73/100\n",
      "12/12 [==============================] - 2s 163ms/step - loss: 1.2528e-04 - val_loss: 0.0093\n",
      "Epoch 74/100\n",
      "12/12 [==============================] - 2s 166ms/step - loss: 1.2777e-04 - val_loss: 0.0088\n",
      "Epoch 75/100\n",
      "12/12 [==============================] - 2s 165ms/step - loss: 1.2710e-04 - val_loss: 0.0093\n",
      "Epoch 76/100\n",
      "12/12 [==============================] - 2s 168ms/step - loss: 1.1713e-04 - val_loss: 0.0090\n",
      "Epoch 77/100\n",
      "12/12 [==============================] - 2s 163ms/step - loss: 1.1524e-04 - val_loss: 0.0094\n",
      "Epoch 78/100\n",
      "12/12 [==============================] - 2s 162ms/step - loss: 1.1556e-04 - val_loss: 0.0090\n",
      "Epoch 79/100\n",
      "12/12 [==============================] - 2s 168ms/step - loss: 1.2328e-04 - val_loss: 0.0083\n",
      "Epoch 80/100\n",
      "12/12 [==============================] - 2s 168ms/step - loss: 1.1801e-04 - val_loss: 0.0081\n",
      "Epoch 81/100\n",
      "12/12 [==============================] - 2s 170ms/step - loss: 1.2939e-04 - val_loss: 0.0081\n",
      "Epoch 82/100\n",
      "12/12 [==============================] - 2s 170ms/step - loss: 1.2947e-04 - val_loss: 0.0093\n",
      "Epoch 83/100\n",
      "12/12 [==============================] - 2s 165ms/step - loss: 1.2717e-04 - val_loss: 0.0082\n",
      "Epoch 84/100\n",
      "12/12 [==============================] - 2s 165ms/step - loss: 1.0800e-04 - val_loss: 0.0078\n",
      "Epoch 85/100\n",
      "12/12 [==============================] - 2s 166ms/step - loss: 1.0807e-04 - val_loss: 0.0086\n",
      "Epoch 86/100\n",
      "12/12 [==============================] - 2s 180ms/step - loss: 1.1161e-04 - val_loss: 0.0097\n",
      "Epoch 87/100\n",
      "12/12 [==============================] - 2s 166ms/step - loss: 1.0676e-04 - val_loss: 0.0089\n",
      "Epoch 88/100\n",
      "12/12 [==============================] - 2s 166ms/step - loss: 1.1844e-04 - val_loss: 0.0072\n",
      "Epoch 89/100\n",
      "12/12 [==============================] - 2s 163ms/step - loss: 1.4058e-04 - val_loss: 0.0077\n",
      "Epoch 90/100\n",
      "12/12 [==============================] - 2s 164ms/step - loss: 1.6677e-04 - val_loss: 0.0155\n",
      "Epoch 91/100\n",
      "12/12 [==============================] - 2s 172ms/step - loss: 1.7056e-04 - val_loss: 0.0062\n",
      "Epoch 92/100\n",
      "12/12 [==============================] - 2s 168ms/step - loss: 1.5202e-04 - val_loss: 0.0063\n",
      "Epoch 93/100\n",
      "12/12 [==============================] - 2s 166ms/step - loss: 1.1212e-04 - val_loss: 0.0062\n",
      "Epoch 94/100\n",
      "12/12 [==============================] - 2s 171ms/step - loss: 1.0752e-04 - val_loss: 0.0066\n",
      "Epoch 95/100\n",
      "12/12 [==============================] - 2s 202ms/step - loss: 1.0102e-04 - val_loss: 0.0067\n",
      "Epoch 96/100\n",
      "12/12 [==============================] - 2s 203ms/step - loss: 1.0181e-04 - val_loss: 0.0064\n",
      "Epoch 97/100\n",
      "12/12 [==============================] - 2s 192ms/step - loss: 9.8012e-05 - val_loss: 0.0065\n",
      "Epoch 98/100\n",
      "12/12 [==============================] - 2s 188ms/step - loss: 1.0073e-04 - val_loss: 0.0062\n",
      "Epoch 99/100\n",
      "12/12 [==============================] - 2s 164ms/step - loss: 1.2053e-04 - val_loss: 0.0063\n",
      "Epoch 100/100\n",
      "12/12 [==============================] - 2s 176ms/step - loss: 1.0398e-04 - val_loss: 0.0061\n"
     ]
    },
    {
     "data": {
      "text/plain": [
       "<tensorflow.python.keras.callbacks.History at 0x7fa44c0d4050>"
      ]
     },
     "execution_count": 20,
     "metadata": {},
     "output_type": "execute_result"
    }
   ],
   "source": [
    "model.fit(X_train,Y_train,validation_data=(X_test,Y_test),epochs=100,batch_size=64,verbose=1)"
   ]
  },
  {
   "cell_type": "code",
   "execution_count": 21,
   "metadata": {
    "execution": {
     "iopub.execute_input": "2020-11-26T06:59:49.727707Z",
     "iopub.status.busy": "2020-11-26T06:59:49.726643Z",
     "iopub.status.idle": "2020-11-26T06:59:51.976526Z",
     "shell.execute_reply": "2020-11-26T06:59:51.975747Z"
    },
    "id": "xk6IMIlhoGIc",
    "papermill": {
     "duration": 2.814696,
     "end_time": "2020-11-26T06:59:51.976664",
     "exception": false,
     "start_time": "2020-11-26T06:59:49.161968",
     "status": "completed"
    },
    "tags": []
   },
   "outputs": [],
   "source": [
    "#Do prediction and check performance metrics\n",
    "train_predict=model.predict(X_train)\n",
    "test_predict=model.predict(X_test)"
   ]
  },
  {
   "cell_type": "code",
   "execution_count": 22,
   "metadata": {
    "execution": {
     "iopub.execute_input": "2020-11-26T06:59:53.094608Z",
     "iopub.status.busy": "2020-11-26T06:59:53.093551Z",
     "iopub.status.idle": "2020-11-26T06:59:53.096988Z",
     "shell.execute_reply": "2020-11-26T06:59:53.096349Z"
    },
    "id": "fC21Z2jnoZ1U",
    "papermill": {
     "duration": 0.561801,
     "end_time": "2020-11-26T06:59:53.097111",
     "exception": false,
     "start_time": "2020-11-26T06:59:52.535310",
     "status": "completed"
    },
    "tags": []
   },
   "outputs": [],
   "source": [
    "#Transform value to original form\n",
    "train_predict=scaler.inverse_transform(train_predict)\n",
    "test_predict=scaler.inverse_transform(test_predict)"
   ]
  },
  {
   "cell_type": "code",
   "execution_count": 23,
   "metadata": {
    "execution": {
     "iopub.execute_input": "2020-11-26T06:59:54.269524Z",
     "iopub.status.busy": "2020-11-26T06:59:54.268636Z",
     "iopub.status.idle": "2020-11-26T06:59:54.271936Z",
     "shell.execute_reply": "2020-11-26T06:59:54.272740Z"
    },
    "id": "5nDeZ5WQo0YS",
    "outputId": "c889a5cd-7e4a-4b3f-e536-1446fbe89c3a",
    "papermill": {
     "duration": 0.565618,
     "end_time": "2020-11-26T06:59:54.272948",
     "exception": false,
     "start_time": "2020-11-26T06:59:53.707330",
     "status": "completed"
    },
    "tags": []
   },
   "outputs": [
    {
     "name": "stdout",
     "output_type": "stream",
     "text": [
      "RMSE performance mertic:158.6282113686402\n",
      "RMSE for test data:271.585257785051\n"
     ]
    }
   ],
   "source": [
    "#Calculate RMSE performance metrics\n",
    "rmse_metric = math.sqrt(mean_squared_error(Y_train,train_predict))\n",
    "print(\"RMSE performance mertic:{}\".format(rmse_metric))\n",
    "\n",
    "#Test data RMSE\n",
    "rmse_test = math.sqrt(mean_squared_error(Y_test,test_predict))\n",
    "print(\"RMSE for test data:{}\".format(rmse_test))"
   ]
  },
  {
   "cell_type": "code",
   "execution_count": 24,
   "metadata": {
    "execution": {
     "iopub.execute_input": "2020-11-26T06:59:55.402778Z",
     "iopub.status.busy": "2020-11-26T06:59:55.394637Z",
     "iopub.status.idle": "2020-11-26T06:59:55.572168Z",
     "shell.execute_reply": "2020-11-26T06:59:55.571569Z"
    },
    "id": "s09YOxVGp2sA",
    "outputId": "ef0f2f85-62bd-45e4-fbc7-94214ee115c4",
    "papermill": {
     "duration": 0.741357,
     "end_time": "2020-11-26T06:59:55.572296",
     "exception": false,
     "start_time": "2020-11-26T06:59:54.830939",
     "status": "completed"
    },
    "tags": []
   },
   "outputs": [
    {
     "data": {
      "image/png": "[encoded data removed]",
      "text/plain": [
       "<Figure size 432x288 with 1 Axes>"
      ]
     },
     "metadata": {
      "needs_background": "light"
     },
     "output_type": "display_data"
    }
   ],
   "source": [
    "#Ploting\n",
    "#shift train predictions for plotting\n",
    "look_back=100 #window size\n",
    "trainPredictPlot = np.empty_like(df1) \n",
    "trainPredictPlot[:, :] = np.nan\n",
    "trainPredictPlot[look_back:len(train_predict)+look_back, :] = train_predict\n",
    "#shift test predictions for plotting\n",
    "testPredictPlot = np.empty_like(df1)\n",
    "testPredictPlot[:, :] = np.nan\n",
    "testPredictPlot[len(train_predict)+(look_back*2)+1:len(df1)-1, :] = test_predict\n",
    "#plot baseline\n",
    "plt.plot(scaler.inverse_transform(df1))\n",
    "#plot training predictions\n",
    "plt.plot(trainPredictPlot)\n",
    "#plot test predictions\n",
    "plt.plot(testPredictPlot)\n",
    "plt.show()"
   ]
  },
  {
   "cell_type": "code",
   "execution_count": 25,
   "metadata": {
    "execution": {
     "iopub.execute_input": "2020-11-26T06:59:56.697043Z",
     "iopub.status.busy": "2020-11-26T06:59:56.695997Z",
     "iopub.status.idle": "2020-11-26T06:59:56.700156Z",
     "shell.execute_reply": "2020-11-26T06:59:56.699524Z"
    },
    "id": "9ZFA7I36p3TD",
    "outputId": "46df2f6b-73d5-42a4-955d-f32f3ecc7c8b",
    "papermill": {
     "duration": 0.570157,
     "end_time": "2020-11-26T06:59:56.700275",
     "exception": false,
     "start_time": "2020-11-26T06:59:56.130118",
     "status": "completed"
    },
    "tags": []
   },
   "outputs": [
    {
     "data": {
      "text/plain": [
       "441"
      ]
     },
     "execution_count": 25,
     "metadata": {},
     "output_type": "execute_result"
    }
   ],
   "source": [
    "len(test_data)"
   ]
  },
  {
   "cell_type": "code",
   "execution_count": 26,
   "metadata": {
    "execution": {
     "iopub.execute_input": "2020-11-26T06:59:57.823339Z",
     "iopub.status.busy": "2020-11-26T06:59:57.822495Z",
     "iopub.status.idle": "2020-11-26T06:59:57.827007Z",
     "shell.execute_reply": "2020-11-26T06:59:57.826238Z"
    },
    "id": "giNaGAKowv0j",
    "outputId": "3424978b-fb9e-428b-ccaf-e9335d16dc0b",
    "papermill": {
     "duration": 0.568685,
     "end_time": "2020-11-26T06:59:57.827140",
     "exception": false,
     "start_time": "2020-11-26T06:59:57.258455",
     "status": "completed"
    },
    "tags": []
   },
   "outputs": [
    {
     "data": {
      "text/plain": [
       "(1, 100)"
      ]
     },
     "execution_count": 26,
     "metadata": {},
     "output_type": "execute_result"
    }
   ],
   "source": [
    "X_input=test_data[341:].reshape(1,-1)\n",
    "X_input.shape"
   ]
  },
  {
   "cell_type": "code",
   "execution_count": 27,
   "metadata": {
    "execution": {
     "iopub.execute_input": "2020-11-26T06:59:58.952522Z",
     "iopub.status.busy": "2020-11-26T06:59:58.951758Z",
     "iopub.status.idle": "2020-11-26T06:59:58.954969Z",
     "shell.execute_reply": "2020-11-26T06:59:58.954309Z"
    },
    "id": "1XFsxhsqxH2s",
    "papermill": {
     "duration": 0.567642,
     "end_time": "2020-11-26T06:59:58.955091",
     "exception": false,
     "start_time": "2020-11-26T06:59:58.387449",
     "status": "completed"
    },
    "tags": []
   },
   "outputs": [],
   "source": [
    "temp_input=list(X_input)\n",
    "temp_input=temp_input[0].tolist()"
   ]
  },
  {
   "cell_type": "code",
   "execution_count": 28,
   "metadata": {
    "execution": {
     "iopub.execute_input": "2020-11-26T07:00:00.111462Z",
     "iopub.status.busy": "2020-11-26T07:00:00.110486Z",
     "iopub.status.idle": "2020-11-26T07:00:00.114722Z",
     "shell.execute_reply": "2020-11-26T07:00:00.115307Z"
    },
    "id": "A4q2e1p3xnyd",
    "outputId": "bf354375-6fc4-415f-e854-182c909a8bc7",
    "papermill": {
     "duration": 0.590611,
     "end_time": "2020-11-26T07:00:00.115492",
     "exception": false,
     "start_time": "2020-11-26T06:59:59.524881",
     "status": "completed"
    },
    "tags": []
   },
   "outputs": [
    {
     "data": {
      "text/plain": [
       "[0.7000120264582081,\n",
       " 0.7039567047504509,\n",
       " 0.7055682501503309,\n",
       " 0.7013108839446784,\n",
       " 0.7165123271196634,\n",
       " 0.7229344558027659,\n",
       " 0.7113650030066145,\n",
       " 0.7094888755261575,\n",
       " 0.7290198436560433,\n",
       " 0.7159591100420926,\n",
       " 0.7185808779314491,\n",
       " 0.6759831629585087,\n",
       " 0.673770294648226,\n",
       " 0.6948887552615755,\n",
       " 0.6799037883343355,\n",
       " 0.6971016235718581,\n",
       " 0.7081659651232712,\n",
       " 0.8050511124473845,\n",
       " 0.830811785929044,\n",
       " 0.8378111846061336,\n",
       " 0.841635598316296,\n",
       " 0.8785808779314492,\n",
       " 0.8517378232110644,\n",
       " 0.8672760072158752,\n",
       " 0.8350210463018641,\n",
       " 0.8699939867708961,\n",
       " 0.8892363199037885,\n",
       " 0.8882501503307276,\n",
       " 0.8853638003607938,\n",
       " 0.89455201443175,\n",
       " 0.8959470835838845,\n",
       " 0.9206494287432352,\n",
       " 0.9792904389657247,\n",
       " 0.9936019242333134,\n",
       " 0.9836680697534577,\n",
       " 1.0,\n",
       " 0.9854479855682503,\n",
       " 0.983499699338545,\n",
       " 0.09308478653036678,\n",
       " 0.10544798556825014,\n",
       " 0.09876127480457003,\n",
       " 0.07345760673481655,\n",
       " 0.07365003006614551,\n",
       " 0.05407095610342749,\n",
       " 0.06489476849067943,\n",
       " 0.055682501503307225,\n",
       " 0.052098616957306054,\n",
       " 0.0601683704149128,\n",
       " 0.06061334936861096,\n",
       " 0.05241130487071555,\n",
       " 0.04810583283223091,\n",
       " 0.03968731208659049,\n",
       " 0.04748045700541187,\n",
       " 0.05164161154539987,\n",
       " 0.04036079374624174,\n",
       " 0.04300661455201443,\n",
       " 0.05277209861695731,\n",
       " 0.05921828021647624,\n",
       " 0.05712567648827421,\n",
       " 0.06126277811184605,\n",
       " 0.06361996392062536,\n",
       " 0.05455201443174984,\n",
       " 0.062922429344558,\n",
       " 0.05488875526157544,\n",
       " 0.059506915213469624,\n",
       " 0.059242333132892344,\n",
       " 0.06405291641611544,\n",
       " 0.08192423331328924,\n",
       " 0.07398677089597111,\n",
       " 0.07420324714371618,\n",
       " 0.07304870715574258,\n",
       " 0.06898376428141911,\n",
       " 0.061671677690920024,\n",
       " 0.06535177390258567,\n",
       " 0.06381238725195432,\n",
       " 0.06111846061334936,\n",
       " 0.059410703547805144,\n",
       " 0.05943475646422125,\n",
       " 0.06316295850871917,\n",
       " 0.05017438364401683,\n",
       " 0.06008418520745634,\n",
       " 0.04454600120264579,\n",
       " 0.04432952495490078,\n",
       " 0.04834636199639203,\n",
       " 0.05919422730006013,\n",
       " 0.06900781719783522,\n",
       " 0.06819001803968727,\n",
       " 0.062489476849067915,\n",
       " 0.06164762477450386,\n",
       " 0.0701142513529765,\n",
       " 0.0694407696933253,\n",
       " 0.06956103427540589,\n",
       " 0.07206253758268188,\n",
       " 0.06987372218881538,\n",
       " 0.0666025255562237,\n",
       " 0.06806975345760674,\n",
       " 0.0649428743235117,\n",
       " 0.056548406494287384,\n",
       " 0.05972339146121464,\n",
       " 0.06179194227300061]"
      ]
     },
     "execution_count": 28,
     "metadata": {},
     "output_type": "execute_result"
    }
   ],
   "source": [
    "temp_input"
   ]
  },
  {
   "cell_type": "code",
   "execution_count": 29,
   "metadata": {
    "execution": {
     "iopub.execute_input": "2020-11-26T07:00:01.254519Z",
     "iopub.status.busy": "2020-11-26T07:00:01.253367Z",
     "iopub.status.idle": "2020-11-26T07:00:03.041236Z",
     "shell.execute_reply": "2020-11-26T07:00:03.040207Z"
    },
    "id": "KhLQz_yvxxkC",
    "outputId": "de071d86-6b77-4630-f638-9af8a5177d55",
    "papermill": {
     "duration": 2.362976,
     "end_time": "2020-11-26T07:00:03.041572",
     "exception": false,
     "start_time": "2020-11-26T07:00:00.678596",
     "status": "completed"
    },
    "tags": []
   },
   "outputs": [
    {
     "name": "stdout",
     "output_type": "stream",
     "text": [
      "[0.06761906]\n",
      "101\n",
      "1 day input [0.7039567  0.70556825 0.70131088 0.71651233 0.72293446 0.711365\n",
      " 0.70948888 0.72901984 0.71595911 0.71858088 0.67598316 0.67377029\n",
      " 0.69488876 0.67990379 0.69710162 0.70816597 0.80505111 0.83081179\n",
      " 0.83781118 0.8416356  0.87858088 0.85173782 0.86727601 0.83502105\n",
      " 0.86999399 0.88923632 0.88825015 0.8853638  0.89455201 0.89594708\n",
      " 0.92064943 0.97929044 0.99360192 0.98366807 1.         0.98544799\n",
      " 0.9834997  0.09308479 0.10544799 0.09876127 0.07345761 0.07365003\n",
      " 0.05407096 0.06489477 0.0556825  0.05209862 0.06016837 0.06061335\n",
      " 0.0524113  0.04810583 0.03968731 0.04748046 0.05164161 0.04036079\n",
      " 0.04300661 0.0527721  0.05921828 0.05712568 0.06126278 0.06361996\n",
      " 0.05455201 0.06292243 0.05488876 0.05950692 0.05924233 0.06405292\n",
      " 0.08192423 0.07398677 0.07420325 0.07304871 0.06898376 0.06167168\n",
      " 0.06535177 0.06381239 0.06111846 0.0594107  0.05943476 0.06316296\n",
      " 0.05017438 0.06008419 0.044546   0.04432952 0.04834636 0.05919423\n",
      " 0.06900782 0.06819002 0.06248948 0.06164762 0.07011425 0.06944077\n",
      " 0.06956103 0.07206254 0.06987372 0.06660253 0.06806975 0.06494287\n",
      " 0.05654841 0.05972339 0.06179194 0.06761906]\n",
      "1 day output [[0.06656134]]\n",
      "2 day input [0.70556825 0.70131088 0.71651233 0.72293446 0.711365   0.70948888\n",
      " 0.72901984 0.71595911 0.71858088 0.67598316 0.67377029 0.69488876\n",
      " 0.67990379 0.69710162 0.70816597 0.80505111 0.83081179 0.83781118\n",
      " 0.8416356  0.87858088 0.85173782 0.86727601 0.83502105 0.86999399\n",
      " 0.88923632 0.88825015 0.8853638  0.89455201 0.89594708 0.92064943\n",
      " 0.97929044 0.99360192 0.98366807 1.         0.98544799 0.9834997\n",
      " 0.09308479 0.10544799 0.09876127 0.07345761 0.07365003 0.05407096\n",
      " 0.06489477 0.0556825  0.05209862 0.06016837 0.06061335 0.0524113\n",
      " 0.04810583 0.03968731 0.04748046 0.05164161 0.04036079 0.04300661\n",
      " 0.0527721  0.05921828 0.05712568 0.06126278 0.06361996 0.05455201\n",
      " 0.06292243 0.05488876 0.05950692 0.05924233 0.06405292 0.08192423\n",
      " 0.07398677 0.07420325 0.07304871 0.06898376 0.06167168 0.06535177\n",
      " 0.06381239 0.06111846 0.0594107  0.05943476 0.06316296 0.05017438\n",
      " 0.06008419 0.044546   0.04432952 0.04834636 0.05919423 0.06900782\n",
      " 0.06819002 0.06248948 0.06164762 0.07011425 0.06944077 0.06956103\n",
      " 0.07206254 0.06987372 0.06660253 0.06806975 0.06494287 0.05654841\n",
      " 0.05972339 0.06179194 0.06761906 0.06656134]\n",
      "2 day output [[0.06633815]]\n",
      "3 day input [0.70131088 0.71651233 0.72293446 0.711365   0.70948888 0.72901984\n",
      " 0.71595911 0.71858088 0.67598316 0.67377029 0.69488876 0.67990379\n",
      " 0.69710162 0.70816597 0.80505111 0.83081179 0.83781118 0.8416356\n",
      " 0.87858088 0.85173782 0.86727601 0.83502105 0.86999399 0.88923632\n",
      " 0.88825015 0.8853638  0.89455201 0.89594708 0.92064943 0.97929044\n",
      " 0.99360192 0.98366807 1.         0.98544799 0.9834997  0.09308479\n",
      " 0.10544799 0.09876127 0.07345761 0.07365003 0.05407096 0.06489477\n",
      " 0.0556825  0.05209862 0.06016837 0.06061335 0.0524113  0.04810583\n",
      " 0.03968731 0.04748046 0.05164161 0.04036079 0.04300661 0.0527721\n",
      " 0.05921828 0.05712568 0.06126278 0.06361996 0.05455201 0.06292243\n",
      " 0.05488876 0.05950692 0.05924233 0.06405292 0.08192423 0.07398677\n",
      " 0.07420325 0.07304871 0.06898376 0.06167168 0.06535177 0.06381239\n",
      " 0.06111846 0.0594107  0.05943476 0.06316296 0.05017438 0.06008419\n",
      " 0.044546   0.04432952 0.04834636 0.05919423 0.06900782 0.06819002\n",
      " 0.06248948 0.06164762 0.07011425 0.06944077 0.06956103 0.07206254\n",
      " 0.06987372 0.06660253 0.06806975 0.06494287 0.05654841 0.05972339\n",
      " 0.06179194 0.06761906 0.06656134 0.06633815]\n",
      "3 day output [[0.06673094]]\n",
      "4 day input [0.71651233 0.72293446 0.711365   0.70948888 0.72901984 0.71595911\n",
      " 0.71858088 0.67598316 0.67377029 0.69488876 0.67990379 0.69710162\n",
      " 0.70816597 0.80505111 0.83081179 0.83781118 0.8416356  0.87858088\n",
      " 0.85173782 0.86727601 0.83502105 0.86999399 0.88923632 0.88825015\n",
      " 0.8853638  0.89455201 0.89594708 0.92064943 0.97929044 0.99360192\n",
      " 0.98366807 1.         0.98544799 0.9834997  0.09308479 0.10544799\n",
      " 0.09876127 0.07345761 0.07365003 0.05407096 0.06489477 0.0556825\n",
      " 0.05209862 0.06016837 0.06061335 0.0524113  0.04810583 0.03968731\n",
      " 0.04748046 0.05164161 0.04036079 0.04300661 0.0527721  0.05921828\n",
      " 0.05712568 0.06126278 0.06361996 0.05455201 0.06292243 0.05488876\n",
      " 0.05950692 0.05924233 0.06405292 0.08192423 0.07398677 0.07420325\n",
      " 0.07304871 0.06898376 0.06167168 0.06535177 0.06381239 0.06111846\n",
      " 0.0594107  0.05943476 0.06316296 0.05017438 0.06008419 0.044546\n",
      " 0.04432952 0.04834636 0.05919423 0.06900782 0.06819002 0.06248948\n",
      " 0.06164762 0.07011425 0.06944077 0.06956103 0.07206254 0.06987372\n",
      " 0.06660253 0.06806975 0.06494287 0.05654841 0.05972339 0.06179194\n",
      " 0.06761906 0.06656134 0.06633815 0.06673094]\n",
      "4 day output [[0.06750428]]\n",
      "5 day input [0.72293446 0.711365   0.70948888 0.72901984 0.71595911 0.71858088\n",
      " 0.67598316 0.67377029 0.69488876 0.67990379 0.69710162 0.70816597\n",
      " 0.80505111 0.83081179 0.83781118 0.8416356  0.87858088 0.85173782\n",
      " 0.86727601 0.83502105 0.86999399 0.88923632 0.88825015 0.8853638\n",
      " 0.89455201 0.89594708 0.92064943 0.97929044 0.99360192 0.98366807\n",
      " 1.         0.98544799 0.9834997  0.09308479 0.10544799 0.09876127\n",
      " 0.07345761 0.07365003 0.05407096 0.06489477 0.0556825  0.05209862\n",
      " 0.06016837 0.06061335 0.0524113  0.04810583 0.03968731 0.04748046\n",
      " 0.05164161 0.04036079 0.04300661 0.0527721  0.05921828 0.05712568\n",
      " 0.06126278 0.06361996 0.05455201 0.06292243 0.05488876 0.05950692\n",
      " 0.05924233 0.06405292 0.08192423 0.07398677 0.07420325 0.07304871\n",
      " 0.06898376 0.06167168 0.06535177 0.06381239 0.06111846 0.0594107\n",
      " 0.05943476 0.06316296 0.05017438 0.06008419 0.044546   0.04432952\n",
      " 0.04834636 0.05919423 0.06900782 0.06819002 0.06248948 0.06164762\n",
      " 0.07011425 0.06944077 0.06956103 0.07206254 0.06987372 0.06660253\n",
      " 0.06806975 0.06494287 0.05654841 0.05972339 0.06179194 0.06761906\n",
      " 0.06656134 0.06633815 0.06673094 0.06750428]\n",
      "5 day output [[0.06848236]]\n",
      "6 day input [0.711365   0.70948888 0.72901984 0.71595911 0.71858088 0.67598316\n",
      " 0.67377029 0.69488876 0.67990379 0.69710162 0.70816597 0.80505111\n",
      " 0.83081179 0.83781118 0.8416356  0.87858088 0.85173782 0.86727601\n",
      " 0.83502105 0.86999399 0.88923632 0.88825015 0.8853638  0.89455201\n",
      " 0.89594708 0.92064943 0.97929044 0.99360192 0.98366807 1.\n",
      " 0.98544799 0.9834997  0.09308479 0.10544799 0.09876127 0.07345761\n",
      " 0.07365003 0.05407096 0.06489477 0.0556825  0.05209862 0.06016837\n",
      " 0.06061335 0.0524113  0.04810583 0.03968731 0.04748046 0.05164161\n",
      " 0.04036079 0.04300661 0.0527721  0.05921828 0.05712568 0.06126278\n",
      " 0.06361996 0.05455201 0.06292243 0.05488876 0.05950692 0.05924233\n",
      " 0.06405292 0.08192423 0.07398677 0.07420325 0.07304871 0.06898376\n",
      " 0.06167168 0.06535177 0.06381239 0.06111846 0.0594107  0.05943476\n",
      " 0.06316296 0.05017438 0.06008419 0.044546   0.04432952 0.04834636\n",
      " 0.05919423 0.06900782 0.06819002 0.06248948 0.06164762 0.07011425\n",
      " 0.06944077 0.06956103 0.07206254 0.06987372 0.06660253 0.06806975\n",
      " 0.06494287 0.05654841 0.05972339 0.06179194 0.06761906 0.06656134\n",
      " 0.06633815 0.06673094 0.06750428 0.06848236]\n",
      "6 day output [[0.06955644]]\n",
      "7 day input [0.70948888 0.72901984 0.71595911 0.71858088 0.67598316 0.67377029\n",
      " 0.69488876 0.67990379 0.69710162 0.70816597 0.80505111 0.83081179\n",
      " 0.83781118 0.8416356  0.87858088 0.85173782 0.86727601 0.83502105\n",
      " 0.86999399 0.88923632 0.88825015 0.8853638  0.89455201 0.89594708\n",
      " 0.92064943 0.97929044 0.99360192 0.98366807 1.         0.98544799\n",
      " 0.9834997  0.09308479 0.10544799 0.09876127 0.07345761 0.07365003\n",
      " 0.05407096 0.06489477 0.0556825  0.05209862 0.06016837 0.06061335\n",
      " 0.0524113  0.04810583 0.03968731 0.04748046 0.05164161 0.04036079\n",
      " 0.04300661 0.0527721  0.05921828 0.05712568 0.06126278 0.06361996\n",
      " 0.05455201 0.06292243 0.05488876 0.05950692 0.05924233 0.06405292\n",
      " 0.08192423 0.07398677 0.07420325 0.07304871 0.06898376 0.06167168\n",
      " 0.06535177 0.06381239 0.06111846 0.0594107  0.05943476 0.06316296\n",
      " 0.05017438 0.06008419 0.044546   0.04432952 0.04834636 0.05919423\n",
      " 0.06900782 0.06819002 0.06248948 0.06164762 0.07011425 0.06944077\n",
      " 0.06956103 0.07206254 0.06987372 0.06660253 0.06806975 0.06494287\n",
      " 0.05654841 0.05972339 0.06179194 0.06761906 0.06656134 0.06633815\n",
      " 0.06673094 0.06750428 0.06848236 0.06955644]\n",
      "7 day output [[0.0706683]]\n",
      "8 day input [0.72901984 0.71595911 0.71858088 0.67598316 0.67377029 0.69488876\n",
      " 0.67990379 0.69710162 0.70816597 0.80505111 0.83081179 0.83781118\n",
      " 0.8416356  0.87858088 0.85173782 0.86727601 0.83502105 0.86999399\n",
      " 0.88923632 0.88825015 0.8853638  0.89455201 0.89594708 0.92064943\n",
      " 0.97929044 0.99360192 0.98366807 1.         0.98544799 0.9834997\n",
      " 0.09308479 0.10544799 0.09876127 0.07345761 0.07365003 0.05407096\n",
      " 0.06489477 0.0556825  0.05209862 0.06016837 0.06061335 0.0524113\n",
      " 0.04810583 0.03968731 0.04748046 0.05164161 0.04036079 0.04300661\n",
      " 0.0527721  0.05921828 0.05712568 0.06126278 0.06361996 0.05455201\n",
      " 0.06292243 0.05488876 0.05950692 0.05924233 0.06405292 0.08192423\n",
      " 0.07398677 0.07420325 0.07304871 0.06898376 0.06167168 0.06535177\n",
      " 0.06381239 0.06111846 0.0594107  0.05943476 0.06316296 0.05017438\n",
      " 0.06008419 0.044546   0.04432952 0.04834636 0.05919423 0.06900782\n",
      " 0.06819002 0.06248948 0.06164762 0.07011425 0.06944077 0.06956103\n",
      " 0.07206254 0.06987372 0.06660253 0.06806975 0.06494287 0.05654841\n",
      " 0.05972339 0.06179194 0.06761906 0.06656134 0.06633815 0.06673094\n",
      " 0.06750428 0.06848236 0.06955644 0.0706683 ]\n",
      "8 day output [[0.07179056]]\n",
      "9 day input [0.71595911 0.71858088 0.67598316 0.67377029 0.69488876 0.67990379\n",
      " 0.69710162 0.70816597 0.80505111 0.83081179 0.83781118 0.8416356\n",
      " 0.87858088 0.85173782 0.86727601 0.83502105 0.86999399 0.88923632\n",
      " 0.88825015 0.8853638  0.89455201 0.89594708 0.92064943 0.97929044\n",
      " 0.99360192 0.98366807 1.         0.98544799 0.9834997  0.09308479\n",
      " 0.10544799 0.09876127 0.07345761 0.07365003 0.05407096 0.06489477\n",
      " 0.0556825  0.05209862 0.06016837 0.06061335 0.0524113  0.04810583\n",
      " 0.03968731 0.04748046 0.05164161 0.04036079 0.04300661 0.0527721\n",
      " 0.05921828 0.05712568 0.06126278 0.06361996 0.05455201 0.06292243\n",
      " 0.05488876 0.05950692 0.05924233 0.06405292 0.08192423 0.07398677\n",
      " 0.07420325 0.07304871 0.06898376 0.06167168 0.06535177 0.06381239\n",
      " 0.06111846 0.0594107  0.05943476 0.06316296 0.05017438 0.06008419\n",
      " 0.044546   0.04432952 0.04834636 0.05919423 0.06900782 0.06819002\n",
      " 0.06248948 0.06164762 0.07011425 0.06944077 0.06956103 0.07206254\n",
      " 0.06987372 0.06660253 0.06806975 0.06494287 0.05654841 0.05972339\n",
      " 0.06179194 0.06761906 0.06656134 0.06633815 0.06673094 0.06750428\n",
      " 0.06848236 0.06955644 0.0706683  0.07179056]\n",
      "9 day output [[0.07291164]]\n",
      "10 day input [0.71858088 0.67598316 0.67377029 0.69488876 0.67990379 0.69710162\n",
      " 0.70816597 0.80505111 0.83081179 0.83781118 0.8416356  0.87858088\n",
      " 0.85173782 0.86727601 0.83502105 0.86999399 0.88923632 0.88825015\n",
      " 0.8853638  0.89455201 0.89594708 0.92064943 0.97929044 0.99360192\n",
      " 0.98366807 1.         0.98544799 0.9834997  0.09308479 0.10544799\n",
      " 0.09876127 0.07345761 0.07365003 0.05407096 0.06489477 0.0556825\n",
      " 0.05209862 0.06016837 0.06061335 0.0524113  0.04810583 0.03968731\n",
      " 0.04748046 0.05164161 0.04036079 0.04300661 0.0527721  0.05921828\n",
      " 0.05712568 0.06126278 0.06361996 0.05455201 0.06292243 0.05488876\n",
      " 0.05950692 0.05924233 0.06405292 0.08192423 0.07398677 0.07420325\n",
      " 0.07304871 0.06898376 0.06167168 0.06535177 0.06381239 0.06111846\n",
      " 0.0594107  0.05943476 0.06316296 0.05017438 0.06008419 0.044546\n",
      " 0.04432952 0.04834636 0.05919423 0.06900782 0.06819002 0.06248948\n",
      " 0.06164762 0.07011425 0.06944077 0.06956103 0.07206254 0.06987372\n",
      " 0.06660253 0.06806975 0.06494287 0.05654841 0.05972339 0.06179194\n",
      " 0.06761906 0.06656134 0.06633815 0.06673094 0.06750428 0.06848236\n",
      " 0.06955644 0.0706683  0.07179056 0.07291164]\n",
      "10 day output [[0.07402664]]\n",
      "11 day input [0.67598316 0.67377029 0.69488876 0.67990379 0.69710162 0.70816597\n",
      " 0.80505111 0.83081179 0.83781118 0.8416356  0.87858088 0.85173782\n",
      " 0.86727601 0.83502105 0.86999399 0.88923632 0.88825015 0.8853638\n",
      " 0.89455201 0.89594708 0.92064943 0.97929044 0.99360192 0.98366807\n",
      " 1.         0.98544799 0.9834997  0.09308479 0.10544799 0.09876127\n",
      " 0.07345761 0.07365003 0.05407096 0.06489477 0.0556825  0.05209862\n",
      " 0.06016837 0.06061335 0.0524113  0.04810583 0.03968731 0.04748046\n",
      " 0.05164161 0.04036079 0.04300661 0.0527721  0.05921828 0.05712568\n",
      " 0.06126278 0.06361996 0.05455201 0.06292243 0.05488876 0.05950692\n",
      " 0.05924233 0.06405292 0.08192423 0.07398677 0.07420325 0.07304871\n",
      " 0.06898376 0.06167168 0.06535177 0.06381239 0.06111846 0.0594107\n",
      " 0.05943476 0.06316296 0.05017438 0.06008419 0.044546   0.04432952\n",
      " 0.04834636 0.05919423 0.06900782 0.06819002 0.06248948 0.06164762\n",
      " 0.07011425 0.06944077 0.06956103 0.07206254 0.06987372 0.06660253\n",
      " 0.06806975 0.06494287 0.05654841 0.05972339 0.06179194 0.06761906\n",
      " 0.06656134 0.06633815 0.06673094 0.06750428 0.06848236 0.06955644\n",
      " 0.0706683  0.07179056 0.07291164 0.07402664]\n",
      "11 day output [[0.0751334]]\n",
      "12 day input [0.67377029 0.69488876 0.67990379 0.69710162 0.70816597 0.80505111\n",
      " 0.83081179 0.83781118 0.8416356  0.87858088 0.85173782 0.86727601\n",
      " 0.83502105 0.86999399 0.88923632 0.88825015 0.8853638  0.89455201\n",
      " 0.89594708 0.92064943 0.97929044 0.99360192 0.98366807 1.\n",
      " 0.98544799 0.9834997  0.09308479 0.10544799 0.09876127 0.07345761\n",
      " 0.07365003 0.05407096 0.06489477 0.0556825  0.05209862 0.06016837\n",
      " 0.06061335 0.0524113  0.04810583 0.03968731 0.04748046 0.05164161\n",
      " 0.04036079 0.04300661 0.0527721  0.05921828 0.05712568 0.06126278\n",
      " 0.06361996 0.05455201 0.06292243 0.05488876 0.05950692 0.05924233\n",
      " 0.06405292 0.08192423 0.07398677 0.07420325 0.07304871 0.06898376\n",
      " 0.06167168 0.06535177 0.06381239 0.06111846 0.0594107  0.05943476\n",
      " 0.06316296 0.05017438 0.06008419 0.044546   0.04432952 0.04834636\n",
      " 0.05919423 0.06900782 0.06819002 0.06248948 0.06164762 0.07011425\n",
      " 0.06944077 0.06956103 0.07206254 0.06987372 0.06660253 0.06806975\n",
      " 0.06494287 0.05654841 0.05972339 0.06179194 0.06761906 0.06656134\n",
      " 0.06633815 0.06673094 0.06750428 0.06848236 0.06955644 0.0706683\n",
      " 0.07179056 0.07291164 0.07402664 0.0751334 ]\n",
      "12 day output [[0.07623021]]\n",
      "13 day input [0.69488876 0.67990379 0.69710162 0.70816597 0.80505111 0.83081179\n",
      " 0.83781118 0.8416356  0.87858088 0.85173782 0.86727601 0.83502105\n",
      " 0.86999399 0.88923632 0.88825015 0.8853638  0.89455201 0.89594708\n",
      " 0.92064943 0.97929044 0.99360192 0.98366807 1.         0.98544799\n",
      " 0.9834997  0.09308479 0.10544799 0.09876127 0.07345761 0.07365003\n",
      " 0.05407096 0.06489477 0.0556825  0.05209862 0.06016837 0.06061335\n",
      " 0.0524113  0.04810583 0.03968731 0.04748046 0.05164161 0.04036079\n",
      " 0.04300661 0.0527721  0.05921828 0.05712568 0.06126278 0.06361996\n",
      " 0.05455201 0.06292243 0.05488876 0.05950692 0.05924233 0.06405292\n",
      " 0.08192423 0.07398677 0.07420325 0.07304871 0.06898376 0.06167168\n",
      " 0.06535177 0.06381239 0.06111846 0.0594107  0.05943476 0.06316296\n",
      " 0.05017438 0.06008419 0.044546   0.04432952 0.04834636 0.05919423\n",
      " 0.06900782 0.06819002 0.06248948 0.06164762 0.07011425 0.06944077\n",
      " 0.06956103 0.07206254 0.06987372 0.06660253 0.06806975 0.06494287\n",
      " 0.05654841 0.05972339 0.06179194 0.06761906 0.06656134 0.06633815\n",
      " 0.06673094 0.06750428 0.06848236 0.06955644 0.0706683  0.07179056\n",
      " 0.07291164 0.07402664 0.0751334  0.07623021]\n",
      "13 day output [[0.07731608]]\n",
      "14 day input [0.67990379 0.69710162 0.70816597 0.80505111 0.83081179 0.83781118\n",
      " 0.8416356  0.87858088 0.85173782 0.86727601 0.83502105 0.86999399\n",
      " 0.88923632 0.88825015 0.8853638  0.89455201 0.89594708 0.92064943\n",
      " 0.97929044 0.99360192 0.98366807 1.         0.98544799 0.9834997\n",
      " 0.09308479 0.10544799 0.09876127 0.07345761 0.07365003 0.05407096\n",
      " 0.06489477 0.0556825  0.05209862 0.06016837 0.06061335 0.0524113\n",
      " 0.04810583 0.03968731 0.04748046 0.05164161 0.04036079 0.04300661\n",
      " 0.0527721  0.05921828 0.05712568 0.06126278 0.06361996 0.05455201\n",
      " 0.06292243 0.05488876 0.05950692 0.05924233 0.06405292 0.08192423\n",
      " 0.07398677 0.07420325 0.07304871 0.06898376 0.06167168 0.06535177\n",
      " 0.06381239 0.06111846 0.0594107  0.05943476 0.06316296 0.05017438\n",
      " 0.06008419 0.044546   0.04432952 0.04834636 0.05919423 0.06900782\n",
      " 0.06819002 0.06248948 0.06164762 0.07011425 0.06944077 0.06956103\n",
      " 0.07206254 0.06987372 0.06660253 0.06806975 0.06494287 0.05654841\n",
      " 0.05972339 0.06179194 0.06761906 0.06656134 0.06633815 0.06673094\n",
      " 0.06750428 0.06848236 0.06955644 0.0706683  0.07179056 0.07291164\n",
      " 0.07402664 0.0751334  0.07623021 0.07731608]\n",
      "14 day output [[0.07839035]]\n",
      "15 day input [0.69710162 0.70816597 0.80505111 0.83081179 0.83781118 0.8416356\n",
      " 0.87858088 0.85173782 0.86727601 0.83502105 0.86999399 0.88923632\n",
      " 0.88825015 0.8853638  0.89455201 0.89594708 0.92064943 0.97929044\n",
      " 0.99360192 0.98366807 1.         0.98544799 0.9834997  0.09308479\n",
      " 0.10544799 0.09876127 0.07345761 0.07365003 0.05407096 0.06489477\n",
      " 0.0556825  0.05209862 0.06016837 0.06061335 0.0524113  0.04810583\n",
      " 0.03968731 0.04748046 0.05164161 0.04036079 0.04300661 0.0527721\n",
      " 0.05921828 0.05712568 0.06126278 0.06361996 0.05455201 0.06292243\n",
      " 0.05488876 0.05950692 0.05924233 0.06405292 0.08192423 0.07398677\n",
      " 0.07420325 0.07304871 0.06898376 0.06167168 0.06535177 0.06381239\n",
      " 0.06111846 0.0594107  0.05943476 0.06316296 0.05017438 0.06008419\n",
      " 0.044546   0.04432952 0.04834636 0.05919423 0.06900782 0.06819002\n",
      " 0.06248948 0.06164762 0.07011425 0.06944077 0.06956103 0.07206254\n",
      " 0.06987372 0.06660253 0.06806975 0.06494287 0.05654841 0.05972339\n",
      " 0.06179194 0.06761906 0.06656134 0.06633815 0.06673094 0.06750428\n",
      " 0.06848236 0.06955644 0.0706683  0.07179056 0.07291164 0.07402664\n",
      " 0.0751334  0.07623021 0.07731608 0.07839035]\n",
      "15 day output [[0.07945284]]\n",
      "16 day input [0.70816597 0.80505111 0.83081179 0.83781118 0.8416356  0.87858088\n",
      " 0.85173782 0.86727601 0.83502105 0.86999399 0.88923632 0.88825015\n",
      " 0.8853638  0.89455201 0.89594708 0.92064943 0.97929044 0.99360192\n",
      " 0.98366807 1.         0.98544799 0.9834997  0.09308479 0.10544799\n",
      " 0.09876127 0.07345761 0.07365003 0.05407096 0.06489477 0.0556825\n",
      " 0.05209862 0.06016837 0.06061335 0.0524113  0.04810583 0.03968731\n",
      " 0.04748046 0.05164161 0.04036079 0.04300661 0.0527721  0.05921828\n",
      " 0.05712568 0.06126278 0.06361996 0.05455201 0.06292243 0.05488876\n",
      " 0.05950692 0.05924233 0.06405292 0.08192423 0.07398677 0.07420325\n",
      " 0.07304871 0.06898376 0.06167168 0.06535177 0.06381239 0.06111846\n",
      " 0.0594107  0.05943476 0.06316296 0.05017438 0.06008419 0.044546\n",
      " 0.04432952 0.04834636 0.05919423 0.06900782 0.06819002 0.06248948\n",
      " 0.06164762 0.07011425 0.06944077 0.06956103 0.07206254 0.06987372\n",
      " 0.06660253 0.06806975 0.06494287 0.05654841 0.05972339 0.06179194\n",
      " 0.06761906 0.06656134 0.06633815 0.06673094 0.06750428 0.06848236\n",
      " 0.06955644 0.0706683  0.07179056 0.07291164 0.07402664 0.0751334\n",
      " 0.07623021 0.07731608 0.07839035 0.07945284]\n",
      "16 day output [[0.08050407]]\n",
      "17 day input [0.80505111 0.83081179 0.83781118 0.8416356  0.87858088 0.85173782\n",
      " 0.86727601 0.83502105 0.86999399 0.88923632 0.88825015 0.8853638\n",
      " 0.89455201 0.89594708 0.92064943 0.97929044 0.99360192 0.98366807\n",
      " 1.         0.98544799 0.9834997  0.09308479 0.10544799 0.09876127\n",
      " 0.07345761 0.07365003 0.05407096 0.06489477 0.0556825  0.05209862\n",
      " 0.06016837 0.06061335 0.0524113  0.04810583 0.03968731 0.04748046\n",
      " 0.05164161 0.04036079 0.04300661 0.0527721  0.05921828 0.05712568\n",
      " 0.06126278 0.06361996 0.05455201 0.06292243 0.05488876 0.05950692\n",
      " 0.05924233 0.06405292 0.08192423 0.07398677 0.07420325 0.07304871\n",
      " 0.06898376 0.06167168 0.06535177 0.06381239 0.06111846 0.0594107\n",
      " 0.05943476 0.06316296 0.05017438 0.06008419 0.044546   0.04432952\n",
      " 0.04834636 0.05919423 0.06900782 0.06819002 0.06248948 0.06164762\n",
      " 0.07011425 0.06944077 0.06956103 0.07206254 0.06987372 0.06660253\n",
      " 0.06806975 0.06494287 0.05654841 0.05972339 0.06179194 0.06761906\n",
      " 0.06656134 0.06633815 0.06673094 0.06750428 0.06848236 0.06955644\n",
      " 0.0706683  0.07179056 0.07291164 0.07402664 0.0751334  0.07623021\n",
      " 0.07731608 0.07839035 0.07945284 0.08050407]\n",
      "17 day output [[0.08154504]]\n",
      "18 day input [0.83081179 0.83781118 0.8416356  0.87858088 0.85173782 0.86727601\n",
      " 0.83502105 0.86999399 0.88923632 0.88825015 0.8853638  0.89455201\n",
      " 0.89594708 0.92064943 0.97929044 0.99360192 0.98366807 1.\n",
      " 0.98544799 0.9834997  0.09308479 0.10544799 0.09876127 0.07345761\n",
      " 0.07365003 0.05407096 0.06489477 0.0556825  0.05209862 0.06016837\n",
      " 0.06061335 0.0524113  0.04810583 0.03968731 0.04748046 0.05164161\n",
      " 0.04036079 0.04300661 0.0527721  0.05921828 0.05712568 0.06126278\n",
      " 0.06361996 0.05455201 0.06292243 0.05488876 0.05950692 0.05924233\n",
      " 0.06405292 0.08192423 0.07398677 0.07420325 0.07304871 0.06898376\n",
      " 0.06167168 0.06535177 0.06381239 0.06111846 0.0594107  0.05943476\n",
      " 0.06316296 0.05017438 0.06008419 0.044546   0.04432952 0.04834636\n",
      " 0.05919423 0.06900782 0.06819002 0.06248948 0.06164762 0.07011425\n",
      " 0.06944077 0.06956103 0.07206254 0.06987372 0.06660253 0.06806975\n",
      " 0.06494287 0.05654841 0.05972339 0.06179194 0.06761906 0.06656134\n",
      " 0.06633815 0.06673094 0.06750428 0.06848236 0.06955644 0.0706683\n",
      " 0.07179056 0.07291164 0.07402664 0.0751334  0.07623021 0.07731608\n",
      " 0.07839035 0.07945284 0.08050407 0.08154504]\n",
      "18 day output [[0.08257736]]\n",
      "19 day input [0.83781118 0.8416356  0.87858088 0.85173782 0.86727601 0.83502105\n",
      " 0.86999399 0.88923632 0.88825015 0.8853638  0.89455201 0.89594708\n",
      " 0.92064943 0.97929044 0.99360192 0.98366807 1.         0.98544799\n",
      " 0.9834997  0.09308479 0.10544799 0.09876127 0.07345761 0.07365003\n",
      " 0.05407096 0.06489477 0.0556825  0.05209862 0.06016837 0.06061335\n",
      " 0.0524113  0.04810583 0.03968731 0.04748046 0.05164161 0.04036079\n",
      " 0.04300661 0.0527721  0.05921828 0.05712568 0.06126278 0.06361996\n",
      " 0.05455201 0.06292243 0.05488876 0.05950692 0.05924233 0.06405292\n",
      " 0.08192423 0.07398677 0.07420325 0.07304871 0.06898376 0.06167168\n",
      " 0.06535177 0.06381239 0.06111846 0.0594107  0.05943476 0.06316296\n",
      " 0.05017438 0.06008419 0.044546   0.04432952 0.04834636 0.05919423\n",
      " 0.06900782 0.06819002 0.06248948 0.06164762 0.07011425 0.06944077\n",
      " 0.06956103 0.07206254 0.06987372 0.06660253 0.06806975 0.06494287\n",
      " 0.05654841 0.05972339 0.06179194 0.06761906 0.06656134 0.06633815\n",
      " 0.06673094 0.06750428 0.06848236 0.06955644 0.0706683  0.07179056\n",
      " 0.07291164 0.07402664 0.0751334  0.07623021 0.07731608 0.07839035\n",
      " 0.07945284 0.08050407 0.08154504 0.08257736]\n",
      "19 day output [[0.08360258]]\n",
      "20 day input [0.8416356  0.87858088 0.85173782 0.86727601 0.83502105 0.86999399\n",
      " 0.88923632 0.88825015 0.8853638  0.89455201 0.89594708 0.92064943\n",
      " 0.97929044 0.99360192 0.98366807 1.         0.98544799 0.9834997\n",
      " 0.09308479 0.10544799 0.09876127 0.07345761 0.07365003 0.05407096\n",
      " 0.06489477 0.0556825  0.05209862 0.06016837 0.06061335 0.0524113\n",
      " 0.04810583 0.03968731 0.04748046 0.05164161 0.04036079 0.04300661\n",
      " 0.0527721  0.05921828 0.05712568 0.06126278 0.06361996 0.05455201\n",
      " 0.06292243 0.05488876 0.05950692 0.05924233 0.06405292 0.08192423\n",
      " 0.07398677 0.07420325 0.07304871 0.06898376 0.06167168 0.06535177\n",
      " 0.06381239 0.06111846 0.0594107  0.05943476 0.06316296 0.05017438\n",
      " 0.06008419 0.044546   0.04432952 0.04834636 0.05919423 0.06900782\n",
      " 0.06819002 0.06248948 0.06164762 0.07011425 0.06944077 0.06956103\n",
      " 0.07206254 0.06987372 0.06660253 0.06806975 0.06494287 0.05654841\n",
      " 0.05972339 0.06179194 0.06761906 0.06656134 0.06633815 0.06673094\n",
      " 0.06750428 0.06848236 0.06955644 0.0706683  0.07179056 0.07291164\n",
      " 0.07402664 0.0751334  0.07623021 0.07731608 0.07839035 0.07945284\n",
      " 0.08050407 0.08154504 0.08257736 0.08360258]\n",
      "20 day output [[0.08462252]]\n",
      "21 day input [0.87858088 0.85173782 0.86727601 0.83502105 0.86999399 0.88923632\n",
      " 0.88825015 0.8853638  0.89455201 0.89594708 0.92064943 0.97929044\n",
      " 0.99360192 0.98366807 1.         0.98544799 0.9834997  0.09308479\n",
      " 0.10544799 0.09876127 0.07345761 0.07365003 0.05407096 0.06489477\n",
      " 0.0556825  0.05209862 0.06016837 0.06061335 0.0524113  0.04810583\n",
      " 0.03968731 0.04748046 0.05164161 0.04036079 0.04300661 0.0527721\n",
      " 0.05921828 0.05712568 0.06126278 0.06361996 0.05455201 0.06292243\n",
      " 0.05488876 0.05950692 0.05924233 0.06405292 0.08192423 0.07398677\n",
      " 0.07420325 0.07304871 0.06898376 0.06167168 0.06535177 0.06381239\n",
      " 0.06111846 0.0594107  0.05943476 0.06316296 0.05017438 0.06008419\n",
      " 0.044546   0.04432952 0.04834636 0.05919423 0.06900782 0.06819002\n",
      " 0.06248948 0.06164762 0.07011425 0.06944077 0.06956103 0.07206254\n",
      " 0.06987372 0.06660253 0.06806975 0.06494287 0.05654841 0.05972339\n",
      " 0.06179194 0.06761906 0.06656134 0.06633815 0.06673094 0.06750428\n",
      " 0.06848236 0.06955644 0.0706683  0.07179056 0.07291164 0.07402664\n",
      " 0.0751334  0.07623021 0.07731608 0.07839035 0.07945284 0.08050407\n",
      " 0.08154504 0.08257736 0.08360258 0.08462252]\n",
      "21 day output [[0.08563909]]\n",
      "22 day input [0.85173782 0.86727601 0.83502105 0.86999399 0.88923632 0.88825015\n",
      " 0.8853638  0.89455201 0.89594708 0.92064943 0.97929044 0.99360192\n",
      " 0.98366807 1.         0.98544799 0.9834997  0.09308479 0.10544799\n",
      " 0.09876127 0.07345761 0.07365003 0.05407096 0.06489477 0.0556825\n",
      " 0.05209862 0.06016837 0.06061335 0.0524113  0.04810583 0.03968731\n",
      " 0.04748046 0.05164161 0.04036079 0.04300661 0.0527721  0.05921828\n",
      " 0.05712568 0.06126278 0.06361996 0.05455201 0.06292243 0.05488876\n",
      " 0.05950692 0.05924233 0.06405292 0.08192423 0.07398677 0.07420325\n",
      " 0.07304871 0.06898376 0.06167168 0.06535177 0.06381239 0.06111846\n",
      " 0.0594107  0.05943476 0.06316296 0.05017438 0.06008419 0.044546\n",
      " 0.04432952 0.04834636 0.05919423 0.06900782 0.06819002 0.06248948\n",
      " 0.06164762 0.07011425 0.06944077 0.06956103 0.07206254 0.06987372\n",
      " 0.06660253 0.06806975 0.06494287 0.05654841 0.05972339 0.06179194\n",
      " 0.06761906 0.06656134 0.06633815 0.06673094 0.06750428 0.06848236\n",
      " 0.06955644 0.0706683  0.07179056 0.07291164 0.07402664 0.0751334\n",
      " 0.07623021 0.07731608 0.07839035 0.07945284 0.08050407 0.08154504\n",
      " 0.08257736 0.08360258 0.08462252 0.08563909]\n",
      "22 day output [[0.08665404]]\n",
      "23 day input [0.86727601 0.83502105 0.86999399 0.88923632 0.88825015 0.8853638\n",
      " 0.89455201 0.89594708 0.92064943 0.97929044 0.99360192 0.98366807\n",
      " 1.         0.98544799 0.9834997  0.09308479 0.10544799 0.09876127\n",
      " 0.07345761 0.07365003 0.05407096 0.06489477 0.0556825  0.05209862\n",
      " 0.06016837 0.06061335 0.0524113  0.04810583 0.03968731 0.04748046\n",
      " 0.05164161 0.04036079 0.04300661 0.0527721  0.05921828 0.05712568\n",
      " 0.06126278 0.06361996 0.05455201 0.06292243 0.05488876 0.05950692\n",
      " 0.05924233 0.06405292 0.08192423 0.07398677 0.07420325 0.07304871\n",
      " 0.06898376 0.06167168 0.06535177 0.06381239 0.06111846 0.0594107\n",
      " 0.05943476 0.06316296 0.05017438 0.06008419 0.044546   0.04432952\n",
      " 0.04834636 0.05919423 0.06900782 0.06819002 0.06248948 0.06164762\n",
      " 0.07011425 0.06944077 0.06956103 0.07206254 0.06987372 0.06660253\n",
      " 0.06806975 0.06494287 0.05654841 0.05972339 0.06179194 0.06761906\n",
      " 0.06656134 0.06633815 0.06673094 0.06750428 0.06848236 0.06955644\n",
      " 0.0706683  0.07179056 0.07291164 0.07402664 0.0751334  0.07623021\n",
      " 0.07731608 0.07839035 0.07945284 0.08050407 0.08154504 0.08257736\n",
      " 0.08360258 0.08462252 0.08563909 0.08665404]\n",
      "23 day output [[0.08766897]]\n",
      "24 day input [0.83502105 0.86999399 0.88923632 0.88825015 0.8853638  0.89455201\n",
      " 0.89594708 0.92064943 0.97929044 0.99360192 0.98366807 1.\n",
      " 0.98544799 0.9834997  0.09308479 0.10544799 0.09876127 0.07345761\n",
      " 0.07365003 0.05407096 0.06489477 0.0556825  0.05209862 0.06016837\n",
      " 0.06061335 0.0524113  0.04810583 0.03968731 0.04748046 0.05164161\n",
      " 0.04036079 0.04300661 0.0527721  0.05921828 0.05712568 0.06126278\n",
      " 0.06361996 0.05455201 0.06292243 0.05488876 0.05950692 0.05924233\n",
      " 0.06405292 0.08192423 0.07398677 0.07420325 0.07304871 0.06898376\n",
      " 0.06167168 0.06535177 0.06381239 0.06111846 0.0594107  0.05943476\n",
      " 0.06316296 0.05017438 0.06008419 0.044546   0.04432952 0.04834636\n",
      " 0.05919423 0.06900782 0.06819002 0.06248948 0.06164762 0.07011425\n",
      " 0.06944077 0.06956103 0.07206254 0.06987372 0.06660253 0.06806975\n",
      " 0.06494287 0.05654841 0.05972339 0.06179194 0.06761906 0.06656134\n",
      " 0.06633815 0.06673094 0.06750428 0.06848236 0.06955644 0.0706683\n",
      " 0.07179056 0.07291164 0.07402664 0.0751334  0.07623021 0.07731608\n",
      " 0.07839035 0.07945284 0.08050407 0.08154504 0.08257736 0.08360258\n",
      " 0.08462252 0.08563909 0.08665404 0.08766897]\n",
      "24 day output [[0.08868538]]\n",
      "25 day input [0.86999399 0.88923632 0.88825015 0.8853638  0.89455201 0.89594708\n",
      " 0.92064943 0.97929044 0.99360192 0.98366807 1.         0.98544799\n",
      " 0.9834997  0.09308479 0.10544799 0.09876127 0.07345761 0.07365003\n",
      " 0.05407096 0.06489477 0.0556825  0.05209862 0.06016837 0.06061335\n",
      " 0.0524113  0.04810583 0.03968731 0.04748046 0.05164161 0.04036079\n",
      " 0.04300661 0.0527721  0.05921828 0.05712568 0.06126278 0.06361996\n",
      " 0.05455201 0.06292243 0.05488876 0.05950692 0.05924233 0.06405292\n",
      " 0.08192423 0.07398677 0.07420325 0.07304871 0.06898376 0.06167168\n",
      " 0.06535177 0.06381239 0.06111846 0.0594107  0.05943476 0.06316296\n",
      " 0.05017438 0.06008419 0.044546   0.04432952 0.04834636 0.05919423\n",
      " 0.06900782 0.06819002 0.06248948 0.06164762 0.07011425 0.06944077\n",
      " 0.06956103 0.07206254 0.06987372 0.06660253 0.06806975 0.06494287\n",
      " 0.05654841 0.05972339 0.06179194 0.06761906 0.06656134 0.06633815\n",
      " 0.06673094 0.06750428 0.06848236 0.06955644 0.0706683  0.07179056\n",
      " 0.07291164 0.07402664 0.0751334  0.07623021 0.07731608 0.07839035\n",
      " 0.07945284 0.08050407 0.08154504 0.08257736 0.08360258 0.08462252\n",
      " 0.08563909 0.08665404 0.08766897 0.08868538]\n",
      "25 day output [[0.08970452]]\n",
      "26 day input [0.88923632 0.88825015 0.8853638  0.89455201 0.89594708 0.92064943\n",
      " 0.97929044 0.99360192 0.98366807 1.         0.98544799 0.9834997\n",
      " 0.09308479 0.10544799 0.09876127 0.07345761 0.07365003 0.05407096\n",
      " 0.06489477 0.0556825  0.05209862 0.06016837 0.06061335 0.0524113\n",
      " 0.04810583 0.03968731 0.04748046 0.05164161 0.04036079 0.04300661\n",
      " 0.0527721  0.05921828 0.05712568 0.06126278 0.06361996 0.05455201\n",
      " 0.06292243 0.05488876 0.05950692 0.05924233 0.06405292 0.08192423\n",
      " 0.07398677 0.07420325 0.07304871 0.06898376 0.06167168 0.06535177\n",
      " 0.06381239 0.06111846 0.0594107  0.05943476 0.06316296 0.05017438\n",
      " 0.06008419 0.044546   0.04432952 0.04834636 0.05919423 0.06900782\n",
      " 0.06819002 0.06248948 0.06164762 0.07011425 0.06944077 0.06956103\n",
      " 0.07206254 0.06987372 0.06660253 0.06806975 0.06494287 0.05654841\n",
      " 0.05972339 0.06179194 0.06761906 0.06656134 0.06633815 0.06673094\n",
      " 0.06750428 0.06848236 0.06955644 0.0706683  0.07179056 0.07291164\n",
      " 0.07402664 0.0751334  0.07623021 0.07731608 0.07839035 0.07945284\n",
      " 0.08050407 0.08154504 0.08257736 0.08360258 0.08462252 0.08563909\n",
      " 0.08665404 0.08766897 0.08868538 0.08970452]\n",
      "26 day output [[0.09072743]]\n",
      "27 day input [0.88825015 0.8853638  0.89455201 0.89594708 0.92064943 0.97929044\n",
      " 0.99360192 0.98366807 1.         0.98544799 0.9834997  0.09308479\n",
      " 0.10544799 0.09876127 0.07345761 0.07365003 0.05407096 0.06489477\n",
      " 0.0556825  0.05209862 0.06016837 0.06061335 0.0524113  0.04810583\n",
      " 0.03968731 0.04748046 0.05164161 0.04036079 0.04300661 0.0527721\n",
      " 0.05921828 0.05712568 0.06126278 0.06361996 0.05455201 0.06292243\n",
      " 0.05488876 0.05950692 0.05924233 0.06405292 0.08192423 0.07398677\n",
      " 0.07420325 0.07304871 0.06898376 0.06167168 0.06535177 0.06381239\n",
      " 0.06111846 0.0594107  0.05943476 0.06316296 0.05017438 0.06008419\n",
      " 0.044546   0.04432952 0.04834636 0.05919423 0.06900782 0.06819002\n",
      " 0.06248948 0.06164762 0.07011425 0.06944077 0.06956103 0.07206254\n",
      " 0.06987372 0.06660253 0.06806975 0.06494287 0.05654841 0.05972339\n",
      " 0.06179194 0.06761906 0.06656134 0.06633815 0.06673094 0.06750428\n",
      " 0.06848236 0.06955644 0.0706683  0.07179056 0.07291164 0.07402664\n",
      " 0.0751334  0.07623021 0.07731608 0.07839035 0.07945284 0.08050407\n",
      " 0.08154504 0.08257736 0.08360258 0.08462252 0.08563909 0.08665404\n",
      " 0.08766897 0.08868538 0.08970452 0.09072743]\n",
      "27 day output [[0.091755]]\n",
      "28 day input [0.8853638  0.89455201 0.89594708 0.92064943 0.97929044 0.99360192\n",
      " 0.98366807 1.         0.98544799 0.9834997  0.09308479 0.10544799\n",
      " 0.09876127 0.07345761 0.07365003 0.05407096 0.06489477 0.0556825\n",
      " 0.05209862 0.06016837 0.06061335 0.0524113  0.04810583 0.03968731\n",
      " 0.04748046 0.05164161 0.04036079 0.04300661 0.0527721  0.05921828\n",
      " 0.05712568 0.06126278 0.06361996 0.05455201 0.06292243 0.05488876\n",
      " 0.05950692 0.05924233 0.06405292 0.08192423 0.07398677 0.07420325\n",
      " 0.07304871 0.06898376 0.06167168 0.06535177 0.06381239 0.06111846\n",
      " 0.0594107  0.05943476 0.06316296 0.05017438 0.06008419 0.044546\n",
      " 0.04432952 0.04834636 0.05919423 0.06900782 0.06819002 0.06248948\n",
      " 0.06164762 0.07011425 0.06944077 0.06956103 0.07206254 0.06987372\n",
      " 0.06660253 0.06806975 0.06494287 0.05654841 0.05972339 0.06179194\n",
      " 0.06761906 0.06656134 0.06633815 0.06673094 0.06750428 0.06848236\n",
      " 0.06955644 0.0706683  0.07179056 0.07291164 0.07402664 0.0751334\n",
      " 0.07623021 0.07731608 0.07839035 0.07945284 0.08050407 0.08154504\n",
      " 0.08257736 0.08360258 0.08462252 0.08563909 0.08665404 0.08766897\n",
      " 0.08868538 0.08970452 0.09072743 0.091755  ]\n",
      "28 day output [[0.09278785]]\n",
      "29 day input [0.89455201 0.89594708 0.92064943 0.97929044 0.99360192 0.98366807\n",
      " 1.         0.98544799 0.9834997  0.09308479 0.10544799 0.09876127\n",
      " 0.07345761 0.07365003 0.05407096 0.06489477 0.0556825  0.05209862\n",
      " 0.06016837 0.06061335 0.0524113  0.04810583 0.03968731 0.04748046\n",
      " 0.05164161 0.04036079 0.04300661 0.0527721  0.05921828 0.05712568\n",
      " 0.06126278 0.06361996 0.05455201 0.06292243 0.05488876 0.05950692\n",
      " 0.05924233 0.06405292 0.08192423 0.07398677 0.07420325 0.07304871\n",
      " 0.06898376 0.06167168 0.06535177 0.06381239 0.06111846 0.0594107\n",
      " 0.05943476 0.06316296 0.05017438 0.06008419 0.044546   0.04432952\n",
      " 0.04834636 0.05919423 0.06900782 0.06819002 0.06248948 0.06164762\n",
      " 0.07011425 0.06944077 0.06956103 0.07206254 0.06987372 0.06660253\n",
      " 0.06806975 0.06494287 0.05654841 0.05972339 0.06179194 0.06761906\n",
      " 0.06656134 0.06633815 0.06673094 0.06750428 0.06848236 0.06955644\n",
      " 0.0706683  0.07179056 0.07291164 0.07402664 0.0751334  0.07623021\n",
      " 0.07731608 0.07839035 0.07945284 0.08050407 0.08154504 0.08257736\n",
      " 0.08360258 0.08462252 0.08563909 0.08665404 0.08766897 0.08868538\n",
      " 0.08970452 0.09072743 0.091755   0.09278785]\n",
      "29 day output [[0.09382645]]\n",
      "[[0.06761905550956726], [0.06656134128570557], [0.06633815169334412], [0.06673093885183334], [0.06750427931547165], [0.06848236173391342], [0.06955644488334656], [0.0706682950258255], [0.07179056107997894], [0.07291163504123688], [0.07402664422988892], [0.07513339817523956], [0.07623020559549332], [0.07731608301401138], [0.07839035242795944], [0.07945284247398376], [0.08050406724214554], [0.08154504001140594], [0.08257735520601273], [0.08360258489847183], [0.08462252467870712], [0.085639089345932], [0.08665403723716736], [0.08766897022724152], [0.08868537843227386], [0.08970452100038528], [0.09072743356227875], [0.09175500273704529], [0.09278784692287445], [0.09382645040750504]]\n"
     ]
    }
   ],
   "source": [
    "#next 30 days\n",
    "lst_output=[]\n",
    "n_steps=100\n",
    "i=0\n",
    "while(i<30):\n",
    "  if(len(temp_input)>100):\n",
    "    #print(temp_input)\n",
    "    X_input=arr(temp_input[1:])\n",
    "    print(\"{} day input {}\".format(i,X_input))\n",
    "    X_input=X_input.reshape(1,-1)\n",
    "    X_input=X_input.reshape((1, n_steps, 1))\n",
    "    #print(X_input)\n",
    "    Yhat = model.predict(X_input, verbose=0)\n",
    "    print(\"{} day output {}\".format(i,Yhat))\n",
    "    temp_input.extend(Yhat[0].tolist())\n",
    "    temp_input=temp_input[1:]\n",
    "    #print(temp_input)\n",
    "    lst_output.extend(Yhat.tolist())\n",
    "    i=i+1\n",
    "  else:\n",
    "    X_input = X_input.reshape((1, n_steps, 1))\n",
    "    Yhat = model.predict(X_input, verbose=0)\n",
    "    print(Yhat[0])\n",
    "    temp_input.extend(Yhat[0].tolist())\n",
    "    print(len(temp_input))\n",
    "    lst_output.extend(Yhat.tolist())\n",
    "    i=i+1\n",
    "\n",
    "print(lst_output)"
   ]
  },
  {
   "cell_type": "code",
   "execution_count": 30,
   "metadata": {
    "execution": {
     "iopub.execute_input": "2020-11-26T07:00:04.176752Z",
     "iopub.status.busy": "2020-11-26T07:00:04.175963Z",
     "iopub.status.idle": "2020-11-26T07:00:04.179888Z",
     "shell.execute_reply": "2020-11-26T07:00:04.180455Z"
    },
    "id": "DLpvb-rW1mY0",
    "outputId": "c482330a-a1de-413d-eaa3-2750cc00c424",
    "papermill": {
     "duration": 0.572629,
     "end_time": "2020-11-26T07:00:04.180622",
     "exception": false,
     "start_time": "2020-11-26T07:00:03.607993",
     "status": "completed"
    },
    "tags": []
   },
   "outputs": [
    {
     "data": {
      "text/plain": [
       "1258"
      ]
     },
     "execution_count": 30,
     "metadata": {},
     "output_type": "execute_result"
    }
   ],
   "source": [
    "len(df1)"
   ]
  },
  {
   "cell_type": "code",
   "execution_count": 31,
   "metadata": {
    "execution": {
     "iopub.execute_input": "2020-11-26T07:00:05.335010Z",
     "iopub.status.busy": "2020-11-26T07:00:05.334018Z",
     "iopub.status.idle": "2020-11-26T07:00:05.339021Z",
     "shell.execute_reply": "2020-11-26T07:00:05.338369Z"
    },
    "id": "MjqK8Xic1oWo",
    "papermill": {
     "duration": 0.591203,
     "end_time": "2020-11-26T07:00:05.339152",
     "exception": false,
     "start_time": "2020-11-26T07:00:04.747949",
     "status": "completed"
    },
    "tags": []
   },
   "outputs": [
    {
     "data": {
      "text/plain": [
       "1288"
      ]
     },
     "execution_count": 31,
     "metadata": {},
     "output_type": "execute_result"
    }
   ],
   "source": [
    "df_final=df1.tolist()\n",
    "df_final.extend(lst_output)\n",
    "len(df_final)"
   ]
  },
  {
   "cell_type": "code",
   "execution_count": 32,
   "metadata": {
    "execution": {
     "iopub.execute_input": "2020-11-26T07:00:06.489156Z",
     "iopub.status.busy": "2020-11-26T07:00:06.488025Z",
     "iopub.status.idle": "2020-11-26T07:00:06.643298Z",
     "shell.execute_reply": "2020-11-26T07:00:06.642500Z"
    },
    "id": "kPHEsotu10xi",
    "outputId": "b6082526-bb7e-4219-904a-b1bfd17bee5c",
    "papermill": {
     "duration": 0.736543,
     "end_time": "2020-11-26T07:00:06.643453",
     "exception": false,
     "start_time": "2020-11-26T07:00:05.906910",
     "status": "completed"
    },
    "tags": []
   },
   "outputs": [
    {
     "data": {
      "text/plain": [
       "[<matplotlib.lines.Line2D at 0x7fa3f6f9d990>]"
      ]
     },
     "execution_count": 32,
     "metadata": {},
     "output_type": "execute_result"
    },
    {
     "data": {
      "image/png": "[encoded data removed]",
      "text/plain": [
       "<Figure size 432x288 with 1 Axes>"
      ]
     },
     "metadata": {
      "needs_background": "light"
     },
     "output_type": "display_data"
    }
   ],
   "source": [
    "day_new=np.arange(1,61)\n",
    "day_pred=np.arange(101,131)\n",
    "plt.plot(day_new,scaler.inverse_transform(df1[1198:]))\n",
    "plt.plot(day_pred,scaler.inverse_transform(lst_output))"
   ]
  },
  {
   "cell_type": "code",
   "execution_count": 33,
   "metadata": {
    "execution": {
     "iopub.execute_input": "2020-11-26T07:00:07.829888Z",
     "iopub.status.busy": "2020-11-26T07:00:07.823819Z",
     "iopub.status.idle": "2020-11-26T07:00:07.977162Z",
     "shell.execute_reply": "2020-11-26T07:00:07.977799Z"
    },
    "id": "1mY3UPZ-2O2r",
    "outputId": "d6476905-218e-4ead-949e-2d79cedac26b",
    "papermill": {
     "duration": 0.726323,
     "end_time": "2020-11-26T07:00:07.977961",
     "exception": false,
     "start_time": "2020-11-26T07:00:07.251638",
     "status": "completed"
    },
    "tags": []
   },
   "outputs": [
    {
     "data": {
      "text/plain": [
       "[<matplotlib.lines.Line2D at 0x7fa414136890>]"
      ]
     },
     "execution_count": 33,
     "metadata": {},
     "output_type": "execute_result"
    },
    {
     "data": {
      "image/png": "[encoded data removed]",
      "text/plain": [
       "<Figure size 432x288 with 1 Axes>"
      ]
     },
     "metadata": {
      "needs_background": "light"
     },
     "output_type": "display_data"
    }
   ],
   "source": [
    "plt.plot(df_final[1200:])"
   ]
  },
  {
   "cell_type": "code",
   "execution_count": null,
   "metadata": {
    "papermill": {
     "duration": 0.565335,
     "end_time": "2020-11-26T07:00:09.114291",
     "exception": false,
     "start_time": "2020-11-26T07:00:08.548956",
     "status": "completed"
    },
    "tags": []
   },
   "outputs": [],
   "source": []
  }
 ],
 "metadata": {
  "kernelspec": {
   "display_name": "Python 3",
   "language": "python",
   "name": "python3"
  },
  "language_info": {
   "codemirror_mode": {
    "name": "ipython",
    "version": 3
   },
   "file_extension": ".py",
   "mimetype": "text/x-python",
   "name": "python",
   "nbconvert_exporter": "python",
   "pygments_lexer": "ipython3",
   "version": "3.7.6"
  },
  "papermill": {
   "duration": 260.622408,
   "end_time": "2020-11-26T07:00:09.793466",
   "environment_variables": {},
   "exception": null,
   "input_path": "__notebook__.ipynb",
   "output_path": "__notebook__.ipynb",
   "parameters": {},
   "start_time": "2020-11-26T06:55:49.171058",
   "version": "2.1.0"
  }
 },
 "nbformat": 4,
 "nbformat_minor": 4
}
